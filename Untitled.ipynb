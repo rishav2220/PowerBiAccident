{
 "cells": [
  {
   "cell_type": "code",
   "execution_count": 2,
   "id": "ec7cbee6",
   "metadata": {},
   "outputs": [],
   "source": [
    "\n",
    "import pandas as pd\n",
    "all_df = []\n",
    "for year in range(2010,2022):\n",
    "    filename = f'COMMVEH_{year}_Statewide.csv'\n",
    "    df = pd.read_csv(filename)\n",
    "    df['Year'] = year\n",
    "    all_df.append(df)\n",
    "\n",
    "merged_df = pd.concat(all_df)\n",
    "\n",
    "# Write the merged data to a new CSV file\n",
    "merged_df.to_csv('COMMVEH_2010_to_2020_Statewide.csv', index=False)"
   ]
  },
  {
   "cell_type": "code",
   "execution_count": 3,
   "id": "2d88a915",
   "metadata": {},
   "outputs": [],
   "source": [
    "columns_to_keep = ['CRN', 'Year']"
   ]
  },
  {
   "cell_type": "code",
   "execution_count": 4,
   "id": "cfacf673",
   "metadata": {},
   "outputs": [],
   "source": [
    "df = merged_df[columns_to_keep]\n",
    "\n",
    "# Write the new dataframe to a csv file\n",
    "df.to_csv('COMMVEH_2010_to_2020_Statewide.csv', index=False)"
   ]
  },
  {
   "cell_type": "code",
   "execution_count": 5,
   "id": "c3c72da2",
   "metadata": {},
   "outputs": [
    {
     "name": "stderr",
     "output_type": "stream",
     "text": [
      "/var/folders/4c/0rjvfr695_z4vl4pl12z6bzc0000gn/T/ipykernel_27113/3020570869.py:5: DtypeWarning: Columns (3) have mixed types. Specify dtype option on import or set low_memory=False.\n",
      "  df = pds.read_csv(filename)\n",
      "/var/folders/4c/0rjvfr695_z4vl4pl12z6bzc0000gn/T/ipykernel_27113/3020570869.py:5: DtypeWarning: Columns (4) have mixed types. Specify dtype option on import or set low_memory=False.\n",
      "  df = pds.read_csv(filename)\n",
      "/var/folders/4c/0rjvfr695_z4vl4pl12z6bzc0000gn/T/ipykernel_27113/3020570869.py:5: DtypeWarning: Columns (3) have mixed types. Specify dtype option on import or set low_memory=False.\n",
      "  df = pds.read_csv(filename)\n"
     ]
    }
   ],
   "source": [
    "import pandas as pds\n",
    "all_dfR = []\n",
    "for year in range(2010,2022):\n",
    "    filename = f'ROADWAY_{year}_Statewide.csv'\n",
    "    df = pds.read_csv(filename)\n",
    "    df['Year'] = year\n",
    "    all_dfR.append(df)\n",
    "\n",
    "merged_df = pd.concat(all_dfR)\n",
    "\n",
    "# Write the merged data to a new CSV file\n",
    "merged_df.to_csv('ROADWAY_2010_2021_Statewide.csv', index=False)"
   ]
  },
  {
   "cell_type": "code",
   "execution_count": null,
   "id": "0d4b9775",
   "metadata": {},
   "outputs": [],
   "source": []
  },
  {
   "cell_type": "code",
   "execution_count": 6,
   "id": "39653f10",
   "metadata": {},
   "outputs": [],
   "source": [
    "columns_to_keep = ['CRN', 'Year','SPEED_LIMIT','STREET_NAME','LANE_COUNT','ROAD_OWNER']"
   ]
  },
  {
   "cell_type": "code",
   "execution_count": null,
   "id": "1f786e96",
   "metadata": {},
   "outputs": [],
   "source": []
  },
  {
   "cell_type": "code",
   "execution_count": 7,
   "id": "2990ca98",
   "metadata": {},
   "outputs": [],
   "source": [
    "df = merged_df[columns_to_keep]\n",
    "\n",
    "# Write the new dataframe to a csv file\n",
    "df.to_csv('ROADWAY_2010_2021_Statewide.csv', index=False)"
   ]
  },
  {
   "cell_type": "code",
   "execution_count": 8,
   "id": "947b45cb",
   "metadata": {},
   "outputs": [
    {
     "name": "stderr",
     "output_type": "stream",
     "text": [
      "/var/folders/4c/0rjvfr695_z4vl4pl12z6bzc0000gn/T/ipykernel_27113/1854986547.py:1: SettingWithCopyWarning: \n",
      "A value is trying to be set on a copy of a slice from a DataFrame\n",
      "\n",
      "See the caveats in the documentation: https://pandas.pydata.org/pandas-docs/stable/user_guide/indexing.html#returning-a-view-versus-a-copy\n",
      "  df['ROAD_OWNER'].replace(1, 'Interstate', inplace=True)\n"
     ]
    }
   ],
   "source": [
    "df['ROAD_OWNER'].replace(1, 'Interstate', inplace=True)"
   ]
  },
  {
   "cell_type": "code",
   "execution_count": 9,
   "id": "97252eac",
   "metadata": {},
   "outputs": [
    {
     "name": "stderr",
     "output_type": "stream",
     "text": [
      "/var/folders/4c/0rjvfr695_z4vl4pl12z6bzc0000gn/T/ipykernel_27113/3895695499.py:1: SettingWithCopyWarning: \n",
      "A value is trying to be set on a copy of a slice from a DataFrame\n",
      "\n",
      "See the caveats in the documentation: https://pandas.pydata.org/pandas-docs/stable/user_guide/indexing.html#returning-a-view-versus-a-copy\n",
      "  df['ROAD_OWNER'].replace(2, 'State highway', inplace=True)\n"
     ]
    }
   ],
   "source": [
    "df['ROAD_OWNER'].replace(2, 'State highway', inplace=True)"
   ]
  },
  {
   "cell_type": "code",
   "execution_count": null,
   "id": "97d4c753",
   "metadata": {},
   "outputs": [],
   "source": []
  },
  {
   "cell_type": "code",
   "execution_count": 10,
   "id": "b4a1d795",
   "metadata": {},
   "outputs": [
    {
     "name": "stderr",
     "output_type": "stream",
     "text": [
      "/var/folders/4c/0rjvfr695_z4vl4pl12z6bzc0000gn/T/ipykernel_27113/2101622631.py:1: SettingWithCopyWarning: \n",
      "A value is trying to be set on a copy of a slice from a DataFrame\n",
      "\n",
      "See the caveats in the documentation: https://pandas.pydata.org/pandas-docs/stable/user_guide/indexing.html#returning-a-view-versus-a-copy\n",
      "  df['ROAD_OWNER'].replace(3, 'County road', inplace=True)\n"
     ]
    }
   ],
   "source": [
    "df['ROAD_OWNER'].replace(3, 'County road', inplace=True)"
   ]
  },
  {
   "cell_type": "code",
   "execution_count": 11,
   "id": "ea0c5c15",
   "metadata": {},
   "outputs": [
    {
     "name": "stderr",
     "output_type": "stream",
     "text": [
      "/var/folders/4c/0rjvfr695_z4vl4pl12z6bzc0000gn/T/ipykernel_27113/3708286228.py:1: SettingWithCopyWarning: \n",
      "A value is trying to be set on a copy of a slice from a DataFrame\n",
      "\n",
      "See the caveats in the documentation: https://pandas.pydata.org/pandas-docs/stable/user_guide/indexing.html#returning-a-view-versus-a-copy\n",
      "  df['ROAD_OWNER'].replace(4, 'Local road', inplace=True)\n"
     ]
    }
   ],
   "source": [
    "df['ROAD_OWNER'].replace(4, 'Local road', inplace=True)"
   ]
  },
  {
   "cell_type": "code",
   "execution_count": 12,
   "id": "200bd1cc",
   "metadata": {},
   "outputs": [
    {
     "name": "stderr",
     "output_type": "stream",
     "text": [
      "/var/folders/4c/0rjvfr695_z4vl4pl12z6bzc0000gn/T/ipykernel_27113/2561002443.py:1: SettingWithCopyWarning: \n",
      "A value is trying to be set on a copy of a slice from a DataFrame\n",
      "\n",
      "See the caveats in the documentation: https://pandas.pydata.org/pandas-docs/stable/user_guide/indexing.html#returning-a-view-versus-a-copy\n",
      "  df['ROAD_OWNER'].replace(5, 'East-West portion of turnpike', inplace=True)\n"
     ]
    }
   ],
   "source": [
    "df['ROAD_OWNER'].replace(5, 'East-West portion of turnpike', inplace=True)"
   ]
  },
  {
   "cell_type": "code",
   "execution_count": 13,
   "id": "53d0e01f",
   "metadata": {},
   "outputs": [
    {
     "name": "stderr",
     "output_type": "stream",
     "text": [
      "/var/folders/4c/0rjvfr695_z4vl4pl12z6bzc0000gn/T/ipykernel_27113/1995811060.py:1: SettingWithCopyWarning: \n",
      "A value is trying to be set on a copy of a slice from a DataFrame\n",
      "\n",
      "See the caveats in the documentation: https://pandas.pydata.org/pandas-docs/stable/user_guide/indexing.html#returning-a-view-versus-a-copy\n",
      "  df['ROAD_OWNER'].replace(6, 'Turnpike spur', inplace=True)\n"
     ]
    }
   ],
   "source": [
    "df['ROAD_OWNER'].replace(6, 'Turnpike spur', inplace=True)"
   ]
  },
  {
   "cell_type": "code",
   "execution_count": 14,
   "id": "1cc9d0b7",
   "metadata": {},
   "outputs": [
    {
     "name": "stderr",
     "output_type": "stream",
     "text": [
      "/var/folders/4c/0rjvfr695_z4vl4pl12z6bzc0000gn/T/ipykernel_27113/3703276797.py:1: SettingWithCopyWarning: \n",
      "A value is trying to be set on a copy of a slice from a DataFrame\n",
      "\n",
      "See the caveats in the documentation: https://pandas.pydata.org/pandas-docs/stable/user_guide/indexing.html#returning-a-view-versus-a-copy\n",
      "  df['ROAD_OWNER'].replace(7, 'Private Road', inplace=True)\n"
     ]
    }
   ],
   "source": [
    "df['ROAD_OWNER'].replace(7, 'Private Road', inplace=True)"
   ]
  },
  {
   "cell_type": "code",
   "execution_count": 15,
   "id": "fe2e4ca7",
   "metadata": {},
   "outputs": [
    {
     "name": "stderr",
     "output_type": "stream",
     "text": [
      "/var/folders/4c/0rjvfr695_z4vl4pl12z6bzc0000gn/T/ipykernel_27113/3419459239.py:1: SettingWithCopyWarning: \n",
      "A value is trying to be set on a copy of a slice from a DataFrame\n",
      "\n",
      "See the caveats in the documentation: https://pandas.pydata.org/pandas-docs/stable/user_guide/indexing.html#returning-a-view-versus-a-copy\n",
      "  df['ROAD_OWNER'].replace(9, 'Other or Unknown', inplace=True)\n"
     ]
    }
   ],
   "source": [
    "df['ROAD_OWNER'].replace(9, 'Other or Unknown', inplace=True)"
   ]
  },
  {
   "cell_type": "code",
   "execution_count": 16,
   "id": "05443bfb",
   "metadata": {},
   "outputs": [],
   "source": [
    "df.to_csv('ROADWAY_2010_2021_Statewide.csv', index=False)"
   ]
  },
  {
   "cell_type": "code",
   "execution_count": 22,
   "id": "50870879",
   "metadata": {},
   "outputs": [
    {
     "name": "stderr",
     "output_type": "stream",
     "text": [
      "/var/folders/4c/0rjvfr695_z4vl4pl12z6bzc0000gn/T/ipykernel_27231/146955978.py:5: DtypeWarning: Columns (94) have mixed types. Specify dtype option on import or set low_memory=False.\n",
      "  df = pdss.read_csv(filename)\n",
      "/var/folders/4c/0rjvfr695_z4vl4pl12z6bzc0000gn/T/ipykernel_27231/146955978.py:5: DtypeWarning: Columns (97,98) have mixed types. Specify dtype option on import or set low_memory=False.\n",
      "  df = pdss.read_csv(filename)\n",
      "/var/folders/4c/0rjvfr695_z4vl4pl12z6bzc0000gn/T/ipykernel_27231/146955978.py:5: DtypeWarning: Columns (94,96,97,98) have mixed types. Specify dtype option on import or set low_memory=False.\n",
      "  df = pdss.read_csv(filename)\n",
      "/var/folders/4c/0rjvfr695_z4vl4pl12z6bzc0000gn/T/ipykernel_27231/146955978.py:5: DtypeWarning: Columns (94,96) have mixed types. Specify dtype option on import or set low_memory=False.\n",
      "  df = pdss.read_csv(filename)\n"
     ]
    }
   ],
   "source": [
    "import pandas as pdss\n",
    "all_dfC = []\n",
    "for year in range(2010,2022):\n",
    "    filename = f'CRASH_{year}_Statewide.csv'\n",
    "    df = pdss.read_csv(filename)\n",
    "    df['Year'] = year\n",
    "    all_dfC.append(df)\n",
    "\n",
    "merged_df = pdss.concat(all_dfC)\n",
    "\n",
    "# Write the merged data to a new CSV filev\n",
    "merged_df.to_csv('CRASH_2010_2021_Statewide.csv', index=False)"
   ]
  },
  {
   "cell_type": "code",
   "execution_count": 23,
   "id": "83bc15f4",
   "metadata": {},
   "outputs": [],
   "source": [
    "columns_to_keep = ['CRN', 'Year','ROAD_CONDITION']"
   ]
  },
  {
   "cell_type": "code",
   "execution_count": 24,
   "id": "682f8d63",
   "metadata": {},
   "outputs": [],
   "source": [
    "df = merged_df[columns_to_keep]\n",
    "\n",
    "# Write the new dataframe to a csv file\n",
    "df.to_csv('CRASH_2010_2021_Statewidess.csv', index=False)"
   ]
  },
  {
   "cell_type": "code",
   "execution_count": 25,
   "id": "1a34a910",
   "metadata": {},
   "outputs": [],
   "source": [
    "df1= pd.read_csv(\"CRASH_2010_2021_Statewidess.csv\")"
   ]
  },
  {
   "cell_type": "code",
   "execution_count": 26,
   "id": "5702d556",
   "metadata": {},
   "outputs": [],
   "source": [
    "null_values = df1[column_name].isnull().sum()"
   ]
  },
  {
   "cell_type": "code",
   "execution_count": 27,
   "id": "77a7a289",
   "metadata": {},
   "outputs": [
    {
     "name": "stdout",
     "output_type": "stream",
     "text": [
      "Number of null values in column 'ROAD_CONDITION': 1\n"
     ]
    }
   ],
   "source": [
    "print(\"Number of null values in column '{}': {}\".format(column_name, null_values))"
   ]
  },
  {
   "cell_type": "code",
   "execution_count": 28,
   "id": "a8bac97a",
   "metadata": {},
   "outputs": [
    {
     "name": "stdout",
     "output_type": "stream",
     "text": [
      "0           2.0\n",
      "1           9.0\n",
      "2           7.0\n",
      "3           2.0\n",
      "4           9.0\n",
      "           ... \n",
      "1479356     1.0\n",
      "1479357     1.0\n",
      "1479358     1.0\n",
      "1479359     1.0\n",
      "1479360    99.0\n",
      "Name: ROAD_CONDITION, Length: 1479361, dtype: float64\n"
     ]
    }
   ],
   "source": [
    "column_name = 'ROAD_CONDITION'\n",
    "column_contents = df1[column_name]\n",
    "\n",
    "# Print the contents of the column\n",
    "print(column_contents)"
   ]
  },
  {
   "cell_type": "code",
   "execution_count": null,
   "id": "51575f81",
   "metadata": {},
   "outputs": [],
   "source": []
  },
  {
   "cell_type": "code",
   "execution_count": 29,
   "id": "75517b77",
   "metadata": {},
   "outputs": [],
   "source": [
    "df1['ROAD_CONDITION'].replace(0.0, 'Dry', inplace=True)"
   ]
  },
  {
   "cell_type": "code",
   "execution_count": null,
   "id": "5a49eea6",
   "metadata": {},
   "outputs": [],
   "source": []
  },
  {
   "cell_type": "code",
   "execution_count": 30,
   "id": "74927412",
   "metadata": {},
   "outputs": [],
   "source": [
    "df1['ROAD_CONDITION'].replace(1.0, 'Ice', inplace=True)"
   ]
  },
  {
   "cell_type": "code",
   "execution_count": null,
   "id": "8ee1cf5f",
   "metadata": {},
   "outputs": [],
   "source": []
  },
  {
   "cell_type": "code",
   "execution_count": 31,
   "id": "290bc226",
   "metadata": {},
   "outputs": [],
   "source": [
    "df1['ROAD_CONDITION'].replace(2.0, 'Mud', inplace=True)"
   ]
  },
  {
   "cell_type": "code",
   "execution_count": null,
   "id": "1b96e914",
   "metadata": {},
   "outputs": [],
   "source": []
  },
  {
   "cell_type": "code",
   "execution_count": 32,
   "id": "bb0734eb",
   "metadata": {},
   "outputs": [],
   "source": [
    "df1['ROAD_CONDITION'].replace(3.0, 'Oil', inplace=True)"
   ]
  },
  {
   "cell_type": "code",
   "execution_count": null,
   "id": "3d619b62",
   "metadata": {},
   "outputs": [],
   "source": []
  },
  {
   "cell_type": "code",
   "execution_count": 33,
   "id": "3b8c5ded",
   "metadata": {},
   "outputs": [],
   "source": [
    "df1['ROAD_CONDITION'].replace(4.0, 'Sand', inplace=True)"
   ]
  },
  {
   "cell_type": "code",
   "execution_count": null,
   "id": "adaafe57",
   "metadata": {},
   "outputs": [],
   "source": []
  },
  {
   "cell_type": "code",
   "execution_count": 34,
   "id": "780622f1",
   "metadata": {},
   "outputs": [],
   "source": [
    "df1['ROAD_CONDITION'].replace(5.0, 'Slush', inplace=True)"
   ]
  },
  {
   "cell_type": "code",
   "execution_count": null,
   "id": "a4282d76",
   "metadata": {},
   "outputs": [],
   "source": []
  },
  {
   "cell_type": "code",
   "execution_count": 35,
   "id": "2518423c",
   "metadata": {},
   "outputs": [],
   "source": [
    "df1['ROAD_CONDITION'].replace(6.0, 'Snow', inplace=True)"
   ]
  },
  {
   "cell_type": "code",
   "execution_count": null,
   "id": "924d010c",
   "metadata": {},
   "outputs": [],
   "source": []
  },
  {
   "cell_type": "code",
   "execution_count": 36,
   "id": "2e2db506",
   "metadata": {},
   "outputs": [],
   "source": [
    "df1['ROAD_CONDITION'].replace(7.0, 'Water', inplace=True)"
   ]
  },
  {
   "cell_type": "code",
   "execution_count": null,
   "id": "5acb9dfc",
   "metadata": {},
   "outputs": [],
   "source": []
  },
  {
   "cell_type": "code",
   "execution_count": 37,
   "id": "c12c93e0",
   "metadata": {},
   "outputs": [],
   "source": [
    "df1['ROAD_CONDITION'].replace(8.0, 'Wet', inplace=True)"
   ]
  },
  {
   "cell_type": "code",
   "execution_count": null,
   "id": "789cb57a",
   "metadata": {},
   "outputs": [],
   "source": []
  },
  {
   "cell_type": "code",
   "execution_count": 38,
   "id": "5d8ea08b",
   "metadata": {},
   "outputs": [],
   "source": [
    "df1['ROAD_CONDITION'].replace(9.0, 'Mud', inplace=True)"
   ]
  },
  {
   "cell_type": "code",
   "execution_count": null,
   "id": "bc30e830",
   "metadata": {},
   "outputs": [],
   "source": []
  },
  {
   "cell_type": "code",
   "execution_count": 39,
   "id": "cf9f2b15",
   "metadata": {},
   "outputs": [],
   "source": [
    "df1['ROAD_CONDITION'].replace(98.0, 'Other', inplace=True)"
   ]
  },
  {
   "cell_type": "code",
   "execution_count": null,
   "id": "6df746fe",
   "metadata": {},
   "outputs": [],
   "source": []
  },
  {
   "cell_type": "code",
   "execution_count": 40,
   "id": "479350b3",
   "metadata": {},
   "outputs": [],
   "source": [
    "df1['ROAD_CONDITION'].replace(99.0, 'Unknown', inplace=True)"
   ]
  },
  {
   "cell_type": "code",
   "execution_count": null,
   "id": "d8fb277f",
   "metadata": {},
   "outputs": [],
   "source": []
  },
  {
   "cell_type": "code",
   "execution_count": 41,
   "id": "311cbb58",
   "metadata": {},
   "outputs": [],
   "source": [
    "df1.to_csv('CRASH_2010_2021_StatewideCorrect.csv', index=False)"
   ]
  },
  {
   "cell_type": "code",
   "execution_count": null,
   "id": "74edd8e6",
   "metadata": {},
   "outputs": [],
   "source": []
  },
  {
   "cell_type": "code",
   "execution_count": 8,
   "id": "adcff94d",
   "metadata": {},
   "outputs": [],
   "source": [
    "import pandas as pdsss"
   ]
  },
  {
   "cell_type": "code",
   "execution_count": 42,
   "id": "960c1cac",
   "metadata": {},
   "outputs": [],
   "source": [
    "df1= pd.read_csv(\"CRASH_2010_2021_StatewideCorrect.csv\")"
   ]
  },
  {
   "cell_type": "code",
   "execution_count": null,
   "id": "620fc9b9",
   "metadata": {},
   "outputs": [],
   "source": []
  },
  {
   "cell_type": "code",
   "execution_count": null,
   "id": "ed89d2d2",
   "metadata": {},
   "outputs": [],
   "source": []
  },
  {
   "cell_type": "code",
   "execution_count": 43,
   "id": "4d62c06e",
   "metadata": {},
   "outputs": [
    {
     "name": "stdout",
     "output_type": "stream",
     "text": [
      "0              Mud\n",
      "1              Mud\n",
      "2            Water\n",
      "3              Mud\n",
      "4              Mud\n",
      "            ...   \n",
      "1479356        Ice\n",
      "1479357        Ice\n",
      "1479358        Ice\n",
      "1479359        Ice\n",
      "1479360    Unknown\n",
      "Name: ROAD_CONDITION, Length: 1479361, dtype: object\n"
     ]
    }
   ],
   "source": [
    "column_name = 'ROAD_CONDITION'\n",
    "column_contents = df1[column_name]\n",
    "\n",
    "# Print the contents of the column\n",
    "print(column_contents)"
   ]
  },
  {
   "cell_type": "code",
   "execution_count": 44,
   "id": "d63002d1",
   "metadata": {},
   "outputs": [],
   "source": [
    "null_values = df1[column_name].isnull().sum()"
   ]
  },
  {
   "cell_type": "code",
   "execution_count": 45,
   "id": "1aec38d9",
   "metadata": {},
   "outputs": [
    {
     "name": "stdout",
     "output_type": "stream",
     "text": [
      "Number of null values in column 'ROAD_CONDITION': 1\n"
     ]
    }
   ],
   "source": [
    "print(\"Number of null values in column '{}': {}\".format(column_name, null_values))"
   ]
  },
  {
   "cell_type": "code",
   "execution_count": null,
   "id": "76496c3b",
   "metadata": {},
   "outputs": [],
   "source": [
    "import pandas as pd"
   ]
  },
  {
   "cell_type": "code",
   "execution_count": 47,
   "id": "8298c52a",
   "metadata": {},
   "outputs": [],
   "source": [
    "df1= pd.read_csv(\"CRASH_2010_2021_StatewideCorrect.csv\")\n"
   ]
  },
  {
   "cell_type": "code",
   "execution_count": 48,
   "id": "739cdcdd",
   "metadata": {},
   "outputs": [],
   "source": [
    "df2= pd.read_csv(\"ROADWAY_2010_2021_Statewide.csv\")\n"
   ]
  },
  {
   "cell_type": "code",
   "execution_count": 49,
   "id": "7050c6ec",
   "metadata": {},
   "outputs": [],
   "source": [
    "merged_df = pd.merge(df1, df2, on='CRN')"
   ]
  },
  {
   "cell_type": "code",
   "execution_count": 50,
   "id": "ecc210c4",
   "metadata": {},
   "outputs": [],
   "source": [
    "merged_df.to_csv(\"ROAD_CRASH.csv\", index=False)"
   ]
  },
  {
   "cell_type": "code",
   "execution_count": 106,
   "id": "6deabcd5",
   "metadata": {},
   "outputs": [],
   "source": [
    "import pandas as pds\n",
    "all_dfR = []\n",
    "for year in range(2010,2022):\n",
    "    filename = f'FLAG_{year}_Statewide.csv'\n",
    "    df = pds.read_csv(filename)\n",
    "    df['Year'] = year\n",
    "    all_dfR.append(df)\n",
    "\n",
    "merged_df = pd.concat(all_dfR)\n",
    "\n",
    "# Write the merged data to a new CSV file\n",
    "merged_df.to_csv('FLAG_2010_2020_Statewide.csv', index=False)"
   ]
  },
  {
   "cell_type": "code",
   "execution_count": 109,
   "id": "f210f4a3",
   "metadata": {},
   "outputs": [
    {
     "data": {
      "text/html": [
       "<div>\n",
       "<style scoped>\n",
       "    .dataframe tbody tr th:only-of-type {\n",
       "        vertical-align: middle;\n",
       "    }\n",
       "\n",
       "    .dataframe tbody tr th {\n",
       "        vertical-align: top;\n",
       "    }\n",
       "\n",
       "    .dataframe thead th {\n",
       "        text-align: right;\n",
       "    }\n",
       "</style>\n",
       "<table border=\"1\" class=\"dataframe\">\n",
       "  <thead>\n",
       "    <tr style=\"text-align: right;\">\n",
       "      <th></th>\n",
       "      <th>AGGRESSIVE_DRIVING</th>\n",
       "      <th>ALCOHOL_RELATED</th>\n",
       "      <th>ANGLE_CRASH</th>\n",
       "      <th>ATV</th>\n",
       "      <th>BACKUP_CONGESTION</th>\n",
       "      <th>BACKUP_NONRECURRING</th>\n",
       "      <th>BACKUP_PRIOR</th>\n",
       "      <th>BICYCLE</th>\n",
       "      <th>CELL_PHONE</th>\n",
       "      <th>COMM_VEHICLE</th>\n",
       "      <th>...</th>\n",
       "      <th>URBAN</th>\n",
       "      <th>VEHICLE_FAILURE</th>\n",
       "      <th>VEHICLE_TOWED</th>\n",
       "      <th>WET_ROAD</th>\n",
       "      <th>WORK_ZONE</th>\n",
       "      <th>CHILD_PASSENGER</th>\n",
       "      <th>MATURE_DRIVER</th>\n",
       "      <th>YOUNG_DRIVER</th>\n",
       "      <th>RAMP</th>\n",
       "      <th>Year</th>\n",
       "    </tr>\n",
       "  </thead>\n",
       "  <tbody>\n",
       "    <tr>\n",
       "      <th>0</th>\n",
       "      <td>0</td>\n",
       "      <td>0</td>\n",
       "      <td>0</td>\n",
       "      <td>0</td>\n",
       "      <td>0</td>\n",
       "      <td>0</td>\n",
       "      <td>0</td>\n",
       "      <td>0</td>\n",
       "      <td>0</td>\n",
       "      <td>0</td>\n",
       "      <td>...</td>\n",
       "      <td>0</td>\n",
       "      <td>0</td>\n",
       "      <td>1</td>\n",
       "      <td>0</td>\n",
       "      <td>0</td>\n",
       "      <td>0</td>\n",
       "      <td>0</td>\n",
       "      <td>0</td>\n",
       "      <td>0</td>\n",
       "      <td>2010</td>\n",
       "    </tr>\n",
       "    <tr>\n",
       "      <th>1</th>\n",
       "      <td>0</td>\n",
       "      <td>0</td>\n",
       "      <td>0</td>\n",
       "      <td>0</td>\n",
       "      <td>0</td>\n",
       "      <td>0</td>\n",
       "      <td>0</td>\n",
       "      <td>0</td>\n",
       "      <td>0</td>\n",
       "      <td>0</td>\n",
       "      <td>...</td>\n",
       "      <td>0</td>\n",
       "      <td>0</td>\n",
       "      <td>1</td>\n",
       "      <td>0</td>\n",
       "      <td>0</td>\n",
       "      <td>0</td>\n",
       "      <td>0</td>\n",
       "      <td>0</td>\n",
       "      <td>0</td>\n",
       "      <td>2010</td>\n",
       "    </tr>\n",
       "    <tr>\n",
       "      <th>2</th>\n",
       "      <td>1</td>\n",
       "      <td>0</td>\n",
       "      <td>0</td>\n",
       "      <td>0</td>\n",
       "      <td>0</td>\n",
       "      <td>0</td>\n",
       "      <td>0</td>\n",
       "      <td>0</td>\n",
       "      <td>0</td>\n",
       "      <td>0</td>\n",
       "      <td>...</td>\n",
       "      <td>0</td>\n",
       "      <td>0</td>\n",
       "      <td>1</td>\n",
       "      <td>0</td>\n",
       "      <td>0</td>\n",
       "      <td>0</td>\n",
       "      <td>1</td>\n",
       "      <td>0</td>\n",
       "      <td>0</td>\n",
       "      <td>2010</td>\n",
       "    </tr>\n",
       "    <tr>\n",
       "      <th>3</th>\n",
       "      <td>0</td>\n",
       "      <td>0</td>\n",
       "      <td>1</td>\n",
       "      <td>0</td>\n",
       "      <td>0</td>\n",
       "      <td>0</td>\n",
       "      <td>0</td>\n",
       "      <td>0</td>\n",
       "      <td>0</td>\n",
       "      <td>0</td>\n",
       "      <td>...</td>\n",
       "      <td>1</td>\n",
       "      <td>0</td>\n",
       "      <td>1</td>\n",
       "      <td>0</td>\n",
       "      <td>0</td>\n",
       "      <td>0</td>\n",
       "      <td>0</td>\n",
       "      <td>0</td>\n",
       "      <td>0</td>\n",
       "      <td>2010</td>\n",
       "    </tr>\n",
       "    <tr>\n",
       "      <th>4</th>\n",
       "      <td>0</td>\n",
       "      <td>0</td>\n",
       "      <td>0</td>\n",
       "      <td>0</td>\n",
       "      <td>0</td>\n",
       "      <td>0</td>\n",
       "      <td>0</td>\n",
       "      <td>0</td>\n",
       "      <td>0</td>\n",
       "      <td>0</td>\n",
       "      <td>...</td>\n",
       "      <td>1</td>\n",
       "      <td>1</td>\n",
       "      <td>1</td>\n",
       "      <td>0</td>\n",
       "      <td>0</td>\n",
       "      <td>0</td>\n",
       "      <td>0</td>\n",
       "      <td>0</td>\n",
       "      <td>1</td>\n",
       "      <td>2010</td>\n",
       "    </tr>\n",
       "    <tr>\n",
       "      <th>...</th>\n",
       "      <td>...</td>\n",
       "      <td>...</td>\n",
       "      <td>...</td>\n",
       "      <td>...</td>\n",
       "      <td>...</td>\n",
       "      <td>...</td>\n",
       "      <td>...</td>\n",
       "      <td>...</td>\n",
       "      <td>...</td>\n",
       "      <td>...</td>\n",
       "      <td>...</td>\n",
       "      <td>...</td>\n",
       "      <td>...</td>\n",
       "      <td>...</td>\n",
       "      <td>...</td>\n",
       "      <td>...</td>\n",
       "      <td>...</td>\n",
       "      <td>...</td>\n",
       "      <td>...</td>\n",
       "      <td>...</td>\n",
       "      <td>...</td>\n",
       "    </tr>\n",
       "    <tr>\n",
       "      <th>117915</th>\n",
       "      <td>1</td>\n",
       "      <td>0</td>\n",
       "      <td>0</td>\n",
       "      <td>0</td>\n",
       "      <td>0</td>\n",
       "      <td>0</td>\n",
       "      <td>0</td>\n",
       "      <td>0</td>\n",
       "      <td>0</td>\n",
       "      <td>0</td>\n",
       "      <td>...</td>\n",
       "      <td>1</td>\n",
       "      <td>0</td>\n",
       "      <td>1</td>\n",
       "      <td>1</td>\n",
       "      <td>0</td>\n",
       "      <td>0</td>\n",
       "      <td>0</td>\n",
       "      <td>1</td>\n",
       "      <td>0</td>\n",
       "      <td>2021</td>\n",
       "    </tr>\n",
       "    <tr>\n",
       "      <th>117916</th>\n",
       "      <td>1</td>\n",
       "      <td>0</td>\n",
       "      <td>0</td>\n",
       "      <td>0</td>\n",
       "      <td>0</td>\n",
       "      <td>0</td>\n",
       "      <td>0</td>\n",
       "      <td>0</td>\n",
       "      <td>0</td>\n",
       "      <td>0</td>\n",
       "      <td>...</td>\n",
       "      <td>1</td>\n",
       "      <td>0</td>\n",
       "      <td>1</td>\n",
       "      <td>0</td>\n",
       "      <td>0</td>\n",
       "      <td>1</td>\n",
       "      <td>0</td>\n",
       "      <td>0</td>\n",
       "      <td>0</td>\n",
       "      <td>2021</td>\n",
       "    </tr>\n",
       "    <tr>\n",
       "      <th>117917</th>\n",
       "      <td>1</td>\n",
       "      <td>0</td>\n",
       "      <td>1</td>\n",
       "      <td>0</td>\n",
       "      <td>0</td>\n",
       "      <td>0</td>\n",
       "      <td>0</td>\n",
       "      <td>0</td>\n",
       "      <td>0</td>\n",
       "      <td>0</td>\n",
       "      <td>...</td>\n",
       "      <td>1</td>\n",
       "      <td>0</td>\n",
       "      <td>1</td>\n",
       "      <td>0</td>\n",
       "      <td>0</td>\n",
       "      <td>0</td>\n",
       "      <td>0</td>\n",
       "      <td>1</td>\n",
       "      <td>0</td>\n",
       "      <td>2021</td>\n",
       "    </tr>\n",
       "    <tr>\n",
       "      <th>117918</th>\n",
       "      <td>0</td>\n",
       "      <td>0</td>\n",
       "      <td>0</td>\n",
       "      <td>0</td>\n",
       "      <td>0</td>\n",
       "      <td>0</td>\n",
       "      <td>0</td>\n",
       "      <td>0</td>\n",
       "      <td>0</td>\n",
       "      <td>0</td>\n",
       "      <td>...</td>\n",
       "      <td>1</td>\n",
       "      <td>0</td>\n",
       "      <td>1</td>\n",
       "      <td>0</td>\n",
       "      <td>0</td>\n",
       "      <td>0</td>\n",
       "      <td>1</td>\n",
       "      <td>0</td>\n",
       "      <td>0</td>\n",
       "      <td>2021</td>\n",
       "    </tr>\n",
       "    <tr>\n",
       "      <th>117919</th>\n",
       "      <td>1</td>\n",
       "      <td>0</td>\n",
       "      <td>0</td>\n",
       "      <td>0</td>\n",
       "      <td>0</td>\n",
       "      <td>0</td>\n",
       "      <td>0</td>\n",
       "      <td>0</td>\n",
       "      <td>0</td>\n",
       "      <td>0</td>\n",
       "      <td>...</td>\n",
       "      <td>1</td>\n",
       "      <td>0</td>\n",
       "      <td>1</td>\n",
       "      <td>0</td>\n",
       "      <td>0</td>\n",
       "      <td>0</td>\n",
       "      <td>0</td>\n",
       "      <td>0</td>\n",
       "      <td>0</td>\n",
       "      <td>2021</td>\n",
       "    </tr>\n",
       "  </tbody>\n",
       "</table>\n",
       "<p>1479361 rows × 112 columns</p>\n",
       "</div>"
      ],
      "text/plain": [
       "        AGGRESSIVE_DRIVING  ALCOHOL_RELATED  ANGLE_CRASH  ATV  \\\n",
       "0                        0                0            0    0   \n",
       "1                        0                0            0    0   \n",
       "2                        1                0            0    0   \n",
       "3                        0                0            1    0   \n",
       "4                        0                0            0    0   \n",
       "...                    ...              ...          ...  ...   \n",
       "117915                   1                0            0    0   \n",
       "117916                   1                0            0    0   \n",
       "117917                   1                0            1    0   \n",
       "117918                   0                0            0    0   \n",
       "117919                   1                0            0    0   \n",
       "\n",
       "        BACKUP_CONGESTION  BACKUP_NONRECURRING  BACKUP_PRIOR  BICYCLE  \\\n",
       "0                       0                    0             0        0   \n",
       "1                       0                    0             0        0   \n",
       "2                       0                    0             0        0   \n",
       "3                       0                    0             0        0   \n",
       "4                       0                    0             0        0   \n",
       "...                   ...                  ...           ...      ...   \n",
       "117915                  0                    0             0        0   \n",
       "117916                  0                    0             0        0   \n",
       "117917                  0                    0             0        0   \n",
       "117918                  0                    0             0        0   \n",
       "117919                  0                    0             0        0   \n",
       "\n",
       "        CELL_PHONE  COMM_VEHICLE  ...  URBAN  VEHICLE_FAILURE  VEHICLE_TOWED  \\\n",
       "0                0             0  ...      0                0              1   \n",
       "1                0             0  ...      0                0              1   \n",
       "2                0             0  ...      0                0              1   \n",
       "3                0             0  ...      1                0              1   \n",
       "4                0             0  ...      1                1              1   \n",
       "...            ...           ...  ...    ...              ...            ...   \n",
       "117915           0             0  ...      1                0              1   \n",
       "117916           0             0  ...      1                0              1   \n",
       "117917           0             0  ...      1                0              1   \n",
       "117918           0             0  ...      1                0              1   \n",
       "117919           0             0  ...      1                0              1   \n",
       "\n",
       "        WET_ROAD  WORK_ZONE  CHILD_PASSENGER  MATURE_DRIVER  YOUNG_DRIVER  \\\n",
       "0              0          0                0              0             0   \n",
       "1              0          0                0              0             0   \n",
       "2              0          0                0              1             0   \n",
       "3              0          0                0              0             0   \n",
       "4              0          0                0              0             0   \n",
       "...          ...        ...              ...            ...           ...   \n",
       "117915         1          0                0              0             1   \n",
       "117916         0          0                1              0             0   \n",
       "117917         0          0                0              0             1   \n",
       "117918         0          0                0              1             0   \n",
       "117919         0          0                0              0             0   \n",
       "\n",
       "        RAMP  Year  \n",
       "0          0  2010  \n",
       "1          0  2010  \n",
       "2          0  2010  \n",
       "3          0  2010  \n",
       "4          1  2010  \n",
       "...      ...   ...  \n",
       "117915     0  2021  \n",
       "117916     0  2021  \n",
       "117917     0  2021  \n",
       "117918     0  2021  \n",
       "117919     0  2021  \n",
       "\n",
       "[1479361 rows x 112 columns]"
      ]
     },
     "execution_count": 109,
     "metadata": {},
     "output_type": "execute_result"
    }
   ],
   "source": [
    "merged_df"
   ]
  },
  {
   "cell_type": "code",
   "execution_count": 35,
   "id": "85ff1632",
   "metadata": {},
   "outputs": [
    {
     "name": "stdout",
     "output_type": "stream",
     "text": [
      "The number of 1's in the combined columns is: 507522\n",
      "The number of 1's in the combined columns is: 4322100\n",
      "The number of 1's in the combined columns is: 2790950\n"
     ]
    }
   ],
   "source": [
    "import pandas as pd\n",
    "\n",
    "# Load your data into a pandas DataFrame\n",
    "df = pd.read_csv('FLAG_2010_2020_Statewide.csv')\n",
    "\n",
    "# Create a new DataFrame that combines all columns with 1's and 0's\n",
    "combined_df = df[['ALCOHOL_RELATED', 'DRINKING_DRIVER',\"DRUGGED_DRIVER\",'ILLEGAL_DRUG_RELATED','IMPAIRED_DRIVER','MC_DRINKING_DRIVER','OPIOID_RELATED','DRUG_RELATED']]\n",
    "\n",
    "# Calculate the sum of all the 1's in the combined DataFrame\n",
    "ones = combined_df.sum().sum()\n",
    "combined_df1 = df[['ANGLE_CRASH', 'BACKUP_CONGESTION','BACKUP_NONRECURRING','BACKUP_PRIOR','CORE_NETWORK','CROSS_MEDIAN','CURVE_DVR_ERROR','CURVED_ROAD','ICY_ROAD','INTERSECTION','INTERSTATE','LANE_DEPARTURE','LEFT_TURN','LOCAL_ROAD','LOCAL_ROAD_ONLY','NO_CLEARANCE','OTHER_FREEWAY','PEDESTRIAN','SNOW_SLUSH_ROAD','UNSIGNALIZED_INT','WET_ROAD']]\n",
    "# Calculate the sum of all the 1's in the combined DataFrame\n",
    "two = combined_df1.sum().sum()\n",
    "combined_df2 = df[['YOUNG_DRIVER','UNLICENSED','UNBELTED','SPEEDING','SPEEDING_RELATED','HIT_BRIDGE','HIT_BARRIER','HIT_DEER','HIT_EMBANKMENT','HIT_FIXED_OBJECT','HIT_GDRAIL','HIT_POLE','HIT_TREE_SHRUB','DISTRACTED','CELL_PHONE','AGGRESSIVE_DRIVING']]\n",
    "\n",
    "three = combined_df2.sum().sum()\n",
    "\n",
    "\n",
    "\n",
    "print(\"The number of 1's in the combined columns is:\", ones)\n",
    "df['Person']=ones\n",
    "# Print the result\n",
    "print(\"The number of 1's in the combined columns is:\", two)\n",
    "df['Road']=two\n",
    "# Print the result\n",
    "print(\"The number of 1's in the combined columns is:\", three)\n",
    "df['ALOCHOL']=three\n",
    "df.to_csv('FLAG_COLUMNS.csv', index=False)"
   ]
  },
  {
   "cell_type": "code",
   "execution_count": 36,
   "id": "1ddfb912",
   "metadata": {},
   "outputs": [],
   "source": [
    "\n",
    "columns_to_keep = ['Person', 'Road', 'ALOCHOL','CRN','Year']\n",
    "df = df[columns_to_keep]\n",
    "\n",
    "# Save the updated DataFrame to a new CSV file\n",
    "df.to_csv('FLAG_COLUMNS.csv', index=False)"
   ]
  },
  {
   "cell_type": "code",
   "execution_count": 37,
   "id": "a510d53a",
   "metadata": {},
   "outputs": [
    {
     "data": {
      "text/html": [
       "<div>\n",
       "<style scoped>\n",
       "    .dataframe tbody tr th:only-of-type {\n",
       "        vertical-align: middle;\n",
       "    }\n",
       "\n",
       "    .dataframe tbody tr th {\n",
       "        vertical-align: top;\n",
       "    }\n",
       "\n",
       "    .dataframe thead th {\n",
       "        text-align: right;\n",
       "    }\n",
       "</style>\n",
       "<table border=\"1\" class=\"dataframe\">\n",
       "  <thead>\n",
       "    <tr style=\"text-align: right;\">\n",
       "      <th></th>\n",
       "      <th>Person</th>\n",
       "      <th>Road</th>\n",
       "      <th>ALOCHOL</th>\n",
       "      <th>CRN</th>\n",
       "      <th>Year</th>\n",
       "    </tr>\n",
       "  </thead>\n",
       "  <tbody>\n",
       "    <tr>\n",
       "      <th>0</th>\n",
       "      <td>507522</td>\n",
       "      <td>4322100</td>\n",
       "      <td>2790950</td>\n",
       "      <td>2010042008</td>\n",
       "      <td>2010</td>\n",
       "    </tr>\n",
       "    <tr>\n",
       "      <th>1</th>\n",
       "      <td>507522</td>\n",
       "      <td>4322100</td>\n",
       "      <td>2790950</td>\n",
       "      <td>2010042787</td>\n",
       "      <td>2010</td>\n",
       "    </tr>\n",
       "    <tr>\n",
       "      <th>2</th>\n",
       "      <td>507522</td>\n",
       "      <td>4322100</td>\n",
       "      <td>2790950</td>\n",
       "      <td>2010048100</td>\n",
       "      <td>2010</td>\n",
       "    </tr>\n",
       "    <tr>\n",
       "      <th>3</th>\n",
       "      <td>507522</td>\n",
       "      <td>4322100</td>\n",
       "      <td>2790950</td>\n",
       "      <td>2011000036</td>\n",
       "      <td>2010</td>\n",
       "    </tr>\n",
       "    <tr>\n",
       "      <th>4</th>\n",
       "      <td>507522</td>\n",
       "      <td>4322100</td>\n",
       "      <td>2790950</td>\n",
       "      <td>2011000255</td>\n",
       "      <td>2010</td>\n",
       "    </tr>\n",
       "    <tr>\n",
       "      <th>...</th>\n",
       "      <td>...</td>\n",
       "      <td>...</td>\n",
       "      <td>...</td>\n",
       "      <td>...</td>\n",
       "      <td>...</td>\n",
       "    </tr>\n",
       "    <tr>\n",
       "      <th>1479356</th>\n",
       "      <td>507522</td>\n",
       "      <td>4322100</td>\n",
       "      <td>2790950</td>\n",
       "      <td>2021070242</td>\n",
       "      <td>2021</td>\n",
       "    </tr>\n",
       "    <tr>\n",
       "      <th>1479357</th>\n",
       "      <td>507522</td>\n",
       "      <td>4322100</td>\n",
       "      <td>2790950</td>\n",
       "      <td>2021059385</td>\n",
       "      <td>2021</td>\n",
       "    </tr>\n",
       "    <tr>\n",
       "      <th>1479358</th>\n",
       "      <td>507522</td>\n",
       "      <td>4322100</td>\n",
       "      <td>2790950</td>\n",
       "      <td>2021045243</td>\n",
       "      <td>2021</td>\n",
       "    </tr>\n",
       "    <tr>\n",
       "      <th>1479359</th>\n",
       "      <td>507522</td>\n",
       "      <td>4322100</td>\n",
       "      <td>2790950</td>\n",
       "      <td>2021057108</td>\n",
       "      <td>2021</td>\n",
       "    </tr>\n",
       "    <tr>\n",
       "      <th>1479360</th>\n",
       "      <td>507522</td>\n",
       "      <td>4322100</td>\n",
       "      <td>2790950</td>\n",
       "      <td>2021120526</td>\n",
       "      <td>2021</td>\n",
       "    </tr>\n",
       "  </tbody>\n",
       "</table>\n",
       "<p>1479361 rows × 5 columns</p>\n",
       "</div>"
      ],
      "text/plain": [
       "         Person     Road  ALOCHOL         CRN  Year\n",
       "0        507522  4322100  2790950  2010042008  2010\n",
       "1        507522  4322100  2790950  2010042787  2010\n",
       "2        507522  4322100  2790950  2010048100  2010\n",
       "3        507522  4322100  2790950  2011000036  2010\n",
       "4        507522  4322100  2790950  2011000255  2010\n",
       "...         ...      ...      ...         ...   ...\n",
       "1479356  507522  4322100  2790950  2021070242  2021\n",
       "1479357  507522  4322100  2790950  2021059385  2021\n",
       "1479358  507522  4322100  2790950  2021045243  2021\n",
       "1479359  507522  4322100  2790950  2021057108  2021\n",
       "1479360  507522  4322100  2790950  2021120526  2021\n",
       "\n",
       "[1479361 rows x 5 columns]"
      ]
     },
     "execution_count": 37,
     "metadata": {},
     "output_type": "execute_result"
    }
   ],
   "source": [
    "df"
   ]
  },
  {
   "cell_type": "code",
   "execution_count": null,
   "id": "ea22f5dd",
   "metadata": {},
   "outputs": [],
   "source": []
  },
  {
   "cell_type": "code",
   "execution_count": null,
   "id": "cc2c75fc",
   "metadata": {},
   "outputs": [],
   "source": []
  },
  {
   "cell_type": "code",
   "execution_count": null,
   "id": "09c86ab7",
   "metadata": {},
   "outputs": [],
   "source": []
  },
  {
   "cell_type": "code",
   "execution_count": null,
   "id": "100a1ed2",
   "metadata": {},
   "outputs": [],
   "source": []
  },
  {
   "cell_type": "code",
   "execution_count": null,
   "id": "0f967c43",
   "metadata": {},
   "outputs": [],
   "source": []
  },
  {
   "cell_type": "code",
   "execution_count": null,
   "id": "d9937bdc",
   "metadata": {},
   "outputs": [],
   "source": []
  },
  {
   "cell_type": "code",
   "execution_count": null,
   "id": "ae81a10e",
   "metadata": {},
   "outputs": [],
   "source": []
  },
  {
   "cell_type": "code",
   "execution_count": 25,
   "id": "655313fb",
   "metadata": {},
   "outputs": [
    {
     "name": "stdout",
     "output_type": "stream",
     "text": [
      "The number of 1's in the combined columns is: 4322100\n"
     ]
    }
   ],
   "source": [
    "df = pd.read_csv('FLAG_2010_2020_Statewide.csv')\n",
    "combined_df1 = df[['ANGLE_CRASH', 'BACKUP_CONGESTION','BACKUP_NONRECURRING','BACKUP_PRIOR','CORE_NETWORK','CROSS_MEDIAN','CURVE_DVR_ERROR','CURVED_ROAD','ICY_ROAD','INTERSECTION','INTERSTATE','LANE_DEPARTURE','LEFT_TURN','LOCAL_ROAD','LOCAL_ROAD_ONLY','NO_CLEARANCE','OTHER_FREEWAY','PEDESTRIAN','SNOW_SLUSH_ROAD','UNSIGNALIZED_INT','WET_ROAD']]\n",
    "ones = combined_df1.sum().sum()\n",
    "combined_df2 = df[['YOUNG_DRIVER','UNLICENSED','UNBELTED','SPEEDING','SPEEDING_RELATED','HIT_BRIDGE','HIT_BARRIER','HIT_DEER','HIT_EMBANKMENT','HIT_FIXED_OBJECT','HIT_GDRAIL','HIT_POLE','HIT_TREE_SHRUB','DISTRACTED','CELL_PHONE','AGGRESSIVE_DRIVING']]\n",
    "\n",
    "ones = combined_df2.sum().sum()\n",
    "\n",
    "\n",
    "\n",
    "print(\"The number of 1's in the combined columns is:\", ones)\n",
    "df['Person']=ones\n",
    "# Print the result\n",
    "print(\"The number of 1's in the combined columns is:\", ones)\n",
    "df['Road']=ones\n",
    "df.to_csv('FLAG_COLUMNS.csv', index=False)"
   ]
  },
  {
   "cell_type": "code",
   "execution_count": null,
   "id": "b076d89b",
   "metadata": {},
   "outputs": [],
   "source": []
  },
  {
   "cell_type": "code",
   "execution_count": null,
   "id": "80060608",
   "metadata": {},
   "outputs": [],
   "source": []
  },
  {
   "cell_type": "code",
   "execution_count": 26,
   "id": "25ae4364",
   "metadata": {},
   "outputs": [
    {
     "name": "stdout",
     "output_type": "stream",
     "text": [
      "The number of 1's in the combined columns is: 2790950\n"
     ]
    }
   ],
   "source": [
    "df = pd.read_csv('FLAG_2010_2020_Statewide.csv')\n",
    "\n",
    "# Create a new DataFrame that combines all columns with 1's and 0's\n",
    "combined_df2 = df[['YOUNG_DRIVER','UNLICENSED','UNBELTED','SPEEDING','SPEEDING_RELATED','HIT_BRIDGE','HIT_BARRIER','HIT_DEER','HIT_EMBANKMENT','HIT_FIXED_OBJECT','HIT_GDRAIL','HIT_POLE','HIT_TREE_SHRUB','DISTRACTED','CELL_PHONE','AGGRESSIVE_DRIVING']]\n",
    "# Calculate the sum of all the 1's in the combined DataFrame\n",
    "ones = combined_df2.sum().sum()\n",
    "\n",
    "# Print the result\n",
    "\n",
    "print(\"The number of 1's in the combined columns is:\", ones)\n",
    "df['Person']=ones\n",
    "df.to_csv('FLAG_COLUMNS.csv', index=False)"
   ]
  },
  {
   "cell_type": "code",
   "execution_count": 31,
   "id": "9902d82c",
   "metadata": {},
   "outputs": [
    {
     "data": {
      "text/html": [
       "<div>\n",
       "<style scoped>\n",
       "    .dataframe tbody tr th:only-of-type {\n",
       "        vertical-align: middle;\n",
       "    }\n",
       "\n",
       "    .dataframe tbody tr th {\n",
       "        vertical-align: top;\n",
       "    }\n",
       "\n",
       "    .dataframe thead th {\n",
       "        text-align: right;\n",
       "    }\n",
       "</style>\n",
       "<table border=\"1\" class=\"dataframe\">\n",
       "  <thead>\n",
       "    <tr style=\"text-align: right;\">\n",
       "      <th></th>\n",
       "      <th>AGGRESSIVE_DRIVING</th>\n",
       "      <th>ALCOHOL_RELATED</th>\n",
       "      <th>ANGLE_CRASH</th>\n",
       "      <th>ATV</th>\n",
       "      <th>BACKUP_CONGESTION</th>\n",
       "      <th>BACKUP_NONRECURRING</th>\n",
       "      <th>BACKUP_PRIOR</th>\n",
       "      <th>BICYCLE</th>\n",
       "      <th>CELL_PHONE</th>\n",
       "      <th>COMM_VEHICLE</th>\n",
       "      <th>...</th>\n",
       "      <th>VEHICLE_FAILURE</th>\n",
       "      <th>VEHICLE_TOWED</th>\n",
       "      <th>WET_ROAD</th>\n",
       "      <th>WORK_ZONE</th>\n",
       "      <th>CHILD_PASSENGER</th>\n",
       "      <th>MATURE_DRIVER</th>\n",
       "      <th>YOUNG_DRIVER</th>\n",
       "      <th>RAMP</th>\n",
       "      <th>Year</th>\n",
       "      <th>Person</th>\n",
       "    </tr>\n",
       "  </thead>\n",
       "  <tbody>\n",
       "    <tr>\n",
       "      <th>0</th>\n",
       "      <td>0</td>\n",
       "      <td>0</td>\n",
       "      <td>0</td>\n",
       "      <td>0</td>\n",
       "      <td>0</td>\n",
       "      <td>0</td>\n",
       "      <td>0</td>\n",
       "      <td>0</td>\n",
       "      <td>0</td>\n",
       "      <td>0</td>\n",
       "      <td>...</td>\n",
       "      <td>0</td>\n",
       "      <td>1</td>\n",
       "      <td>0</td>\n",
       "      <td>0</td>\n",
       "      <td>0</td>\n",
       "      <td>0</td>\n",
       "      <td>0</td>\n",
       "      <td>0</td>\n",
       "      <td>2010</td>\n",
       "      <td>2790950</td>\n",
       "    </tr>\n",
       "    <tr>\n",
       "      <th>1</th>\n",
       "      <td>0</td>\n",
       "      <td>0</td>\n",
       "      <td>0</td>\n",
       "      <td>0</td>\n",
       "      <td>0</td>\n",
       "      <td>0</td>\n",
       "      <td>0</td>\n",
       "      <td>0</td>\n",
       "      <td>0</td>\n",
       "      <td>0</td>\n",
       "      <td>...</td>\n",
       "      <td>0</td>\n",
       "      <td>1</td>\n",
       "      <td>0</td>\n",
       "      <td>0</td>\n",
       "      <td>0</td>\n",
       "      <td>0</td>\n",
       "      <td>0</td>\n",
       "      <td>0</td>\n",
       "      <td>2010</td>\n",
       "      <td>2790950</td>\n",
       "    </tr>\n",
       "    <tr>\n",
       "      <th>2</th>\n",
       "      <td>1</td>\n",
       "      <td>0</td>\n",
       "      <td>0</td>\n",
       "      <td>0</td>\n",
       "      <td>0</td>\n",
       "      <td>0</td>\n",
       "      <td>0</td>\n",
       "      <td>0</td>\n",
       "      <td>0</td>\n",
       "      <td>0</td>\n",
       "      <td>...</td>\n",
       "      <td>0</td>\n",
       "      <td>1</td>\n",
       "      <td>0</td>\n",
       "      <td>0</td>\n",
       "      <td>0</td>\n",
       "      <td>1</td>\n",
       "      <td>0</td>\n",
       "      <td>0</td>\n",
       "      <td>2010</td>\n",
       "      <td>2790950</td>\n",
       "    </tr>\n",
       "    <tr>\n",
       "      <th>3</th>\n",
       "      <td>0</td>\n",
       "      <td>0</td>\n",
       "      <td>1</td>\n",
       "      <td>0</td>\n",
       "      <td>0</td>\n",
       "      <td>0</td>\n",
       "      <td>0</td>\n",
       "      <td>0</td>\n",
       "      <td>0</td>\n",
       "      <td>0</td>\n",
       "      <td>...</td>\n",
       "      <td>0</td>\n",
       "      <td>1</td>\n",
       "      <td>0</td>\n",
       "      <td>0</td>\n",
       "      <td>0</td>\n",
       "      <td>0</td>\n",
       "      <td>0</td>\n",
       "      <td>0</td>\n",
       "      <td>2010</td>\n",
       "      <td>2790950</td>\n",
       "    </tr>\n",
       "    <tr>\n",
       "      <th>4</th>\n",
       "      <td>0</td>\n",
       "      <td>0</td>\n",
       "      <td>0</td>\n",
       "      <td>0</td>\n",
       "      <td>0</td>\n",
       "      <td>0</td>\n",
       "      <td>0</td>\n",
       "      <td>0</td>\n",
       "      <td>0</td>\n",
       "      <td>0</td>\n",
       "      <td>...</td>\n",
       "      <td>1</td>\n",
       "      <td>1</td>\n",
       "      <td>0</td>\n",
       "      <td>0</td>\n",
       "      <td>0</td>\n",
       "      <td>0</td>\n",
       "      <td>0</td>\n",
       "      <td>1</td>\n",
       "      <td>2010</td>\n",
       "      <td>2790950</td>\n",
       "    </tr>\n",
       "    <tr>\n",
       "      <th>...</th>\n",
       "      <td>...</td>\n",
       "      <td>...</td>\n",
       "      <td>...</td>\n",
       "      <td>...</td>\n",
       "      <td>...</td>\n",
       "      <td>...</td>\n",
       "      <td>...</td>\n",
       "      <td>...</td>\n",
       "      <td>...</td>\n",
       "      <td>...</td>\n",
       "      <td>...</td>\n",
       "      <td>...</td>\n",
       "      <td>...</td>\n",
       "      <td>...</td>\n",
       "      <td>...</td>\n",
       "      <td>...</td>\n",
       "      <td>...</td>\n",
       "      <td>...</td>\n",
       "      <td>...</td>\n",
       "      <td>...</td>\n",
       "      <td>...</td>\n",
       "    </tr>\n",
       "    <tr>\n",
       "      <th>1479356</th>\n",
       "      <td>1</td>\n",
       "      <td>0</td>\n",
       "      <td>0</td>\n",
       "      <td>0</td>\n",
       "      <td>0</td>\n",
       "      <td>0</td>\n",
       "      <td>0</td>\n",
       "      <td>0</td>\n",
       "      <td>0</td>\n",
       "      <td>0</td>\n",
       "      <td>...</td>\n",
       "      <td>0</td>\n",
       "      <td>1</td>\n",
       "      <td>1</td>\n",
       "      <td>0</td>\n",
       "      <td>0</td>\n",
       "      <td>0</td>\n",
       "      <td>1</td>\n",
       "      <td>0</td>\n",
       "      <td>2021</td>\n",
       "      <td>2790950</td>\n",
       "    </tr>\n",
       "    <tr>\n",
       "      <th>1479357</th>\n",
       "      <td>1</td>\n",
       "      <td>0</td>\n",
       "      <td>0</td>\n",
       "      <td>0</td>\n",
       "      <td>0</td>\n",
       "      <td>0</td>\n",
       "      <td>0</td>\n",
       "      <td>0</td>\n",
       "      <td>0</td>\n",
       "      <td>0</td>\n",
       "      <td>...</td>\n",
       "      <td>0</td>\n",
       "      <td>1</td>\n",
       "      <td>0</td>\n",
       "      <td>0</td>\n",
       "      <td>1</td>\n",
       "      <td>0</td>\n",
       "      <td>0</td>\n",
       "      <td>0</td>\n",
       "      <td>2021</td>\n",
       "      <td>2790950</td>\n",
       "    </tr>\n",
       "    <tr>\n",
       "      <th>1479358</th>\n",
       "      <td>1</td>\n",
       "      <td>0</td>\n",
       "      <td>1</td>\n",
       "      <td>0</td>\n",
       "      <td>0</td>\n",
       "      <td>0</td>\n",
       "      <td>0</td>\n",
       "      <td>0</td>\n",
       "      <td>0</td>\n",
       "      <td>0</td>\n",
       "      <td>...</td>\n",
       "      <td>0</td>\n",
       "      <td>1</td>\n",
       "      <td>0</td>\n",
       "      <td>0</td>\n",
       "      <td>0</td>\n",
       "      <td>0</td>\n",
       "      <td>1</td>\n",
       "      <td>0</td>\n",
       "      <td>2021</td>\n",
       "      <td>2790950</td>\n",
       "    </tr>\n",
       "    <tr>\n",
       "      <th>1479359</th>\n",
       "      <td>0</td>\n",
       "      <td>0</td>\n",
       "      <td>0</td>\n",
       "      <td>0</td>\n",
       "      <td>0</td>\n",
       "      <td>0</td>\n",
       "      <td>0</td>\n",
       "      <td>0</td>\n",
       "      <td>0</td>\n",
       "      <td>0</td>\n",
       "      <td>...</td>\n",
       "      <td>0</td>\n",
       "      <td>1</td>\n",
       "      <td>0</td>\n",
       "      <td>0</td>\n",
       "      <td>0</td>\n",
       "      <td>1</td>\n",
       "      <td>0</td>\n",
       "      <td>0</td>\n",
       "      <td>2021</td>\n",
       "      <td>2790950</td>\n",
       "    </tr>\n",
       "    <tr>\n",
       "      <th>1479360</th>\n",
       "      <td>1</td>\n",
       "      <td>0</td>\n",
       "      <td>0</td>\n",
       "      <td>0</td>\n",
       "      <td>0</td>\n",
       "      <td>0</td>\n",
       "      <td>0</td>\n",
       "      <td>0</td>\n",
       "      <td>0</td>\n",
       "      <td>0</td>\n",
       "      <td>...</td>\n",
       "      <td>0</td>\n",
       "      <td>1</td>\n",
       "      <td>0</td>\n",
       "      <td>0</td>\n",
       "      <td>0</td>\n",
       "      <td>0</td>\n",
       "      <td>0</td>\n",
       "      <td>0</td>\n",
       "      <td>2021</td>\n",
       "      <td>2790950</td>\n",
       "    </tr>\n",
       "  </tbody>\n",
       "</table>\n",
       "<p>1479361 rows × 113 columns</p>\n",
       "</div>"
      ],
      "text/plain": [
       "         AGGRESSIVE_DRIVING  ALCOHOL_RELATED  ANGLE_CRASH  ATV  \\\n",
       "0                         0                0            0    0   \n",
       "1                         0                0            0    0   \n",
       "2                         1                0            0    0   \n",
       "3                         0                0            1    0   \n",
       "4                         0                0            0    0   \n",
       "...                     ...              ...          ...  ...   \n",
       "1479356                   1                0            0    0   \n",
       "1479357                   1                0            0    0   \n",
       "1479358                   1                0            1    0   \n",
       "1479359                   0                0            0    0   \n",
       "1479360                   1                0            0    0   \n",
       "\n",
       "         BACKUP_CONGESTION  BACKUP_NONRECURRING  BACKUP_PRIOR  BICYCLE  \\\n",
       "0                        0                    0             0        0   \n",
       "1                        0                    0             0        0   \n",
       "2                        0                    0             0        0   \n",
       "3                        0                    0             0        0   \n",
       "4                        0                    0             0        0   \n",
       "...                    ...                  ...           ...      ...   \n",
       "1479356                  0                    0             0        0   \n",
       "1479357                  0                    0             0        0   \n",
       "1479358                  0                    0             0        0   \n",
       "1479359                  0                    0             0        0   \n",
       "1479360                  0                    0             0        0   \n",
       "\n",
       "         CELL_PHONE  COMM_VEHICLE  ...  VEHICLE_FAILURE  VEHICLE_TOWED  \\\n",
       "0                 0             0  ...                0              1   \n",
       "1                 0             0  ...                0              1   \n",
       "2                 0             0  ...                0              1   \n",
       "3                 0             0  ...                0              1   \n",
       "4                 0             0  ...                1              1   \n",
       "...             ...           ...  ...              ...            ...   \n",
       "1479356           0             0  ...                0              1   \n",
       "1479357           0             0  ...                0              1   \n",
       "1479358           0             0  ...                0              1   \n",
       "1479359           0             0  ...                0              1   \n",
       "1479360           0             0  ...                0              1   \n",
       "\n",
       "         WET_ROAD  WORK_ZONE  CHILD_PASSENGER  MATURE_DRIVER  YOUNG_DRIVER  \\\n",
       "0               0          0                0              0             0   \n",
       "1               0          0                0              0             0   \n",
       "2               0          0                0              1             0   \n",
       "3               0          0                0              0             0   \n",
       "4               0          0                0              0             0   \n",
       "...           ...        ...              ...            ...           ...   \n",
       "1479356         1          0                0              0             1   \n",
       "1479357         0          0                1              0             0   \n",
       "1479358         0          0                0              0             1   \n",
       "1479359         0          0                0              1             0   \n",
       "1479360         0          0                0              0             0   \n",
       "\n",
       "         RAMP  Year   Person  \n",
       "0           0  2010  2790950  \n",
       "1           0  2010  2790950  \n",
       "2           0  2010  2790950  \n",
       "3           0  2010  2790950  \n",
       "4           1  2010  2790950  \n",
       "...       ...   ...      ...  \n",
       "1479356     0  2021  2790950  \n",
       "1479357     0  2021  2790950  \n",
       "1479358     0  2021  2790950  \n",
       "1479359     0  2021  2790950  \n",
       "1479360     0  2021  2790950  \n",
       "\n",
       "[1479361 rows x 113 columns]"
      ]
     },
     "execution_count": 31,
     "metadata": {},
     "output_type": "execute_result"
    }
   ],
   "source": [
    "\n"
   ]
  },
  {
   "cell_type": "code",
   "execution_count": null,
   "id": "879e9ace",
   "metadata": {},
   "outputs": [],
   "source": []
  },
  {
   "cell_type": "code",
   "execution_count": 20,
   "id": "b2c945a8",
   "metadata": {},
   "outputs": [],
   "source": []
  },
  {
   "cell_type": "code",
   "execution_count": 30,
   "id": "5c6d2e2d",
   "metadata": {},
   "outputs": [
    {
     "ename": "KeyError",
     "evalue": "'Road'",
     "output_type": "error",
     "traceback": [
      "\u001b[0;31m---------------------------------------------------------------------------\u001b[0m",
      "\u001b[0;31mKeyError\u001b[0m                                  Traceback (most recent call last)",
      "\u001b[0;32m~/opt/anaconda3/lib/python3.9/site-packages/pandas/core/indexes/base.py\u001b[0m in \u001b[0;36mget_loc\u001b[0;34m(self, key, method, tolerance)\u001b[0m\n\u001b[1;32m   3628\u001b[0m             \u001b[0;32mtry\u001b[0m\u001b[0;34m:\u001b[0m\u001b[0;34m\u001b[0m\u001b[0;34m\u001b[0m\u001b[0m\n\u001b[0;32m-> 3629\u001b[0;31m                 \u001b[0;32mreturn\u001b[0m \u001b[0mself\u001b[0m\u001b[0;34m.\u001b[0m\u001b[0m_engine\u001b[0m\u001b[0;34m.\u001b[0m\u001b[0mget_loc\u001b[0m\u001b[0;34m(\u001b[0m\u001b[0mcasted_key\u001b[0m\u001b[0;34m)\u001b[0m\u001b[0;34m\u001b[0m\u001b[0;34m\u001b[0m\u001b[0m\n\u001b[0m\u001b[1;32m   3630\u001b[0m             \u001b[0;32mexcept\u001b[0m \u001b[0mKeyError\u001b[0m \u001b[0;32mas\u001b[0m \u001b[0merr\u001b[0m\u001b[0;34m:\u001b[0m\u001b[0;34m\u001b[0m\u001b[0;34m\u001b[0m\u001b[0m\n",
      "\u001b[0;32m~/opt/anaconda3/lib/python3.9/site-packages/pandas/_libs/index.pyx\u001b[0m in \u001b[0;36mpandas._libs.index.IndexEngine.get_loc\u001b[0;34m()\u001b[0m\n",
      "\u001b[0;32m~/opt/anaconda3/lib/python3.9/site-packages/pandas/_libs/index.pyx\u001b[0m in \u001b[0;36mpandas._libs.index.IndexEngine.get_loc\u001b[0;34m()\u001b[0m\n",
      "\u001b[0;32mpandas/_libs/hashtable_class_helper.pxi\u001b[0m in \u001b[0;36mpandas._libs.hashtable.PyObjectHashTable.get_item\u001b[0;34m()\u001b[0m\n",
      "\u001b[0;32mpandas/_libs/hashtable_class_helper.pxi\u001b[0m in \u001b[0;36mpandas._libs.hashtable.PyObjectHashTable.get_item\u001b[0;34m()\u001b[0m\n",
      "\u001b[0;31mKeyError\u001b[0m: 'Road'",
      "\nThe above exception was the direct cause of the following exception:\n",
      "\u001b[0;31mKeyError\u001b[0m                                  Traceback (most recent call last)",
      "\u001b[0;32m/var/folders/4c/0rjvfr695_z4vl4pl12z6bzc0000gn/T/ipykernel_30700/1016055438.py\u001b[0m in \u001b[0;36m<module>\u001b[0;34m\u001b[0m\n\u001b[0;32m----> 1\u001b[0;31m \u001b[0mprint\u001b[0m\u001b[0;34m(\u001b[0m\u001b[0mdf\u001b[0m\u001b[0;34m[\u001b[0m\u001b[0;34m'Road'\u001b[0m\u001b[0;34m]\u001b[0m\u001b[0;34m)\u001b[0m\u001b[0;34m\u001b[0m\u001b[0;34m\u001b[0m\u001b[0m\n\u001b[0m",
      "\u001b[0;32m~/opt/anaconda3/lib/python3.9/site-packages/pandas/core/frame.py\u001b[0m in \u001b[0;36m__getitem__\u001b[0;34m(self, key)\u001b[0m\n\u001b[1;32m   3503\u001b[0m             \u001b[0;32mif\u001b[0m \u001b[0mself\u001b[0m\u001b[0;34m.\u001b[0m\u001b[0mcolumns\u001b[0m\u001b[0;34m.\u001b[0m\u001b[0mnlevels\u001b[0m \u001b[0;34m>\u001b[0m \u001b[0;36m1\u001b[0m\u001b[0;34m:\u001b[0m\u001b[0;34m\u001b[0m\u001b[0;34m\u001b[0m\u001b[0m\n\u001b[1;32m   3504\u001b[0m                 \u001b[0;32mreturn\u001b[0m \u001b[0mself\u001b[0m\u001b[0;34m.\u001b[0m\u001b[0m_getitem_multilevel\u001b[0m\u001b[0;34m(\u001b[0m\u001b[0mkey\u001b[0m\u001b[0;34m)\u001b[0m\u001b[0;34m\u001b[0m\u001b[0;34m\u001b[0m\u001b[0m\n\u001b[0;32m-> 3505\u001b[0;31m             \u001b[0mindexer\u001b[0m \u001b[0;34m=\u001b[0m \u001b[0mself\u001b[0m\u001b[0;34m.\u001b[0m\u001b[0mcolumns\u001b[0m\u001b[0;34m.\u001b[0m\u001b[0mget_loc\u001b[0m\u001b[0;34m(\u001b[0m\u001b[0mkey\u001b[0m\u001b[0;34m)\u001b[0m\u001b[0;34m\u001b[0m\u001b[0;34m\u001b[0m\u001b[0m\n\u001b[0m\u001b[1;32m   3506\u001b[0m             \u001b[0;32mif\u001b[0m \u001b[0mis_integer\u001b[0m\u001b[0;34m(\u001b[0m\u001b[0mindexer\u001b[0m\u001b[0;34m)\u001b[0m\u001b[0;34m:\u001b[0m\u001b[0;34m\u001b[0m\u001b[0;34m\u001b[0m\u001b[0m\n\u001b[1;32m   3507\u001b[0m                 \u001b[0mindexer\u001b[0m \u001b[0;34m=\u001b[0m \u001b[0;34m[\u001b[0m\u001b[0mindexer\u001b[0m\u001b[0;34m]\u001b[0m\u001b[0;34m\u001b[0m\u001b[0;34m\u001b[0m\u001b[0m\n",
      "\u001b[0;32m~/opt/anaconda3/lib/python3.9/site-packages/pandas/core/indexes/base.py\u001b[0m in \u001b[0;36mget_loc\u001b[0;34m(self, key, method, tolerance)\u001b[0m\n\u001b[1;32m   3629\u001b[0m                 \u001b[0;32mreturn\u001b[0m \u001b[0mself\u001b[0m\u001b[0;34m.\u001b[0m\u001b[0m_engine\u001b[0m\u001b[0;34m.\u001b[0m\u001b[0mget_loc\u001b[0m\u001b[0;34m(\u001b[0m\u001b[0mcasted_key\u001b[0m\u001b[0;34m)\u001b[0m\u001b[0;34m\u001b[0m\u001b[0;34m\u001b[0m\u001b[0m\n\u001b[1;32m   3630\u001b[0m             \u001b[0;32mexcept\u001b[0m \u001b[0mKeyError\u001b[0m \u001b[0;32mas\u001b[0m \u001b[0merr\u001b[0m\u001b[0;34m:\u001b[0m\u001b[0;34m\u001b[0m\u001b[0;34m\u001b[0m\u001b[0m\n\u001b[0;32m-> 3631\u001b[0;31m                 \u001b[0;32mraise\u001b[0m \u001b[0mKeyError\u001b[0m\u001b[0;34m(\u001b[0m\u001b[0mkey\u001b[0m\u001b[0;34m)\u001b[0m \u001b[0;32mfrom\u001b[0m \u001b[0merr\u001b[0m\u001b[0;34m\u001b[0m\u001b[0;34m\u001b[0m\u001b[0m\n\u001b[0m\u001b[1;32m   3632\u001b[0m             \u001b[0;32mexcept\u001b[0m \u001b[0mTypeError\u001b[0m\u001b[0;34m:\u001b[0m\u001b[0;34m\u001b[0m\u001b[0;34m\u001b[0m\u001b[0m\n\u001b[1;32m   3633\u001b[0m                 \u001b[0;31m# If we have a listlike key, _check_indexing_error will raise\u001b[0m\u001b[0;34m\u001b[0m\u001b[0;34m\u001b[0m\u001b[0m\n",
      "\u001b[0;31mKeyError\u001b[0m: 'Road'"
     ]
    }
   ],
   "source": []
  },
  {
   "cell_type": "code",
   "execution_count": null,
   "id": "9de59907",
   "metadata": {},
   "outputs": [],
   "source": []
  },
  {
   "cell_type": "code",
   "execution_count": null,
   "id": "4d2e561d",
   "metadata": {},
   "outputs": [],
   "source": []
  },
  {
   "cell_type": "code",
   "execution_count": null,
   "id": "6f8a2587",
   "metadata": {},
   "outputs": [],
   "source": []
  },
  {
   "cell_type": "code",
   "execution_count": null,
   "id": "0b85deab",
   "metadata": {},
   "outputs": [],
   "source": []
  },
  {
   "cell_type": "code",
   "execution_count": null,
   "id": "4a64b634",
   "metadata": {},
   "outputs": [],
   "source": []
  },
  {
   "cell_type": "code",
   "execution_count": 21,
   "id": "3a65374c",
   "metadata": {},
   "outputs": [],
   "source": [
    "columns_to_keep = ['Person', 'Road','ALOCHOL']"
   ]
  },
  {
   "cell_type": "code",
   "execution_count": 22,
   "id": "2b2f71c8",
   "metadata": {},
   "outputs": [
    {
     "ename": "KeyError",
     "evalue": "\"['Road', 'ALOCHOL'] not in index\"",
     "output_type": "error",
     "traceback": [
      "\u001b[0;31m---------------------------------------------------------------------------\u001b[0m",
      "\u001b[0;31mKeyError\u001b[0m                                  Traceback (most recent call last)",
      "\u001b[0;32m/var/folders/4c/0rjvfr695_z4vl4pl12z6bzc0000gn/T/ipykernel_30700/3030158698.py\u001b[0m in \u001b[0;36m<module>\u001b[0;34m\u001b[0m\n\u001b[0;32m----> 1\u001b[0;31m \u001b[0mdf\u001b[0m \u001b[0;34m=\u001b[0m \u001b[0mdf\u001b[0m\u001b[0;34m[\u001b[0m\u001b[0mcolumns_to_keep\u001b[0m\u001b[0;34m]\u001b[0m\u001b[0;34m\u001b[0m\u001b[0;34m\u001b[0m\u001b[0m\n\u001b[0m\u001b[1;32m      2\u001b[0m \u001b[0;34m\u001b[0m\u001b[0m\n\u001b[1;32m      3\u001b[0m \u001b[0;31m# Write the new dataframe to a csv file\u001b[0m\u001b[0;34m\u001b[0m\u001b[0;34m\u001b[0m\u001b[0m\n\u001b[1;32m      4\u001b[0m \u001b[0mdf\u001b[0m\u001b[0;34m.\u001b[0m\u001b[0mto_csv\u001b[0m\u001b[0;34m(\u001b[0m\u001b[0;34m'FLAG_2010_2021_COLUMNS.csv'\u001b[0m\u001b[0;34m,\u001b[0m \u001b[0mindex\u001b[0m\u001b[0;34m=\u001b[0m\u001b[0;32mFalse\u001b[0m\u001b[0;34m)\u001b[0m\u001b[0;34m\u001b[0m\u001b[0;34m\u001b[0m\u001b[0m\n",
      "\u001b[0;32m~/opt/anaconda3/lib/python3.9/site-packages/pandas/core/frame.py\u001b[0m in \u001b[0;36m__getitem__\u001b[0;34m(self, key)\u001b[0m\n\u001b[1;32m   3509\u001b[0m             \u001b[0;32mif\u001b[0m \u001b[0mis_iterator\u001b[0m\u001b[0;34m(\u001b[0m\u001b[0mkey\u001b[0m\u001b[0;34m)\u001b[0m\u001b[0;34m:\u001b[0m\u001b[0;34m\u001b[0m\u001b[0;34m\u001b[0m\u001b[0m\n\u001b[1;32m   3510\u001b[0m                 \u001b[0mkey\u001b[0m \u001b[0;34m=\u001b[0m \u001b[0mlist\u001b[0m\u001b[0;34m(\u001b[0m\u001b[0mkey\u001b[0m\u001b[0;34m)\u001b[0m\u001b[0;34m\u001b[0m\u001b[0;34m\u001b[0m\u001b[0m\n\u001b[0;32m-> 3511\u001b[0;31m             \u001b[0mindexer\u001b[0m \u001b[0;34m=\u001b[0m \u001b[0mself\u001b[0m\u001b[0;34m.\u001b[0m\u001b[0mcolumns\u001b[0m\u001b[0;34m.\u001b[0m\u001b[0m_get_indexer_strict\u001b[0m\u001b[0;34m(\u001b[0m\u001b[0mkey\u001b[0m\u001b[0;34m,\u001b[0m \u001b[0;34m\"columns\"\u001b[0m\u001b[0;34m)\u001b[0m\u001b[0;34m[\u001b[0m\u001b[0;36m1\u001b[0m\u001b[0;34m]\u001b[0m\u001b[0;34m\u001b[0m\u001b[0;34m\u001b[0m\u001b[0m\n\u001b[0m\u001b[1;32m   3512\u001b[0m \u001b[0;34m\u001b[0m\u001b[0m\n\u001b[1;32m   3513\u001b[0m         \u001b[0;31m# take() does not accept boolean indexers\u001b[0m\u001b[0;34m\u001b[0m\u001b[0;34m\u001b[0m\u001b[0m\n",
      "\u001b[0;32m~/opt/anaconda3/lib/python3.9/site-packages/pandas/core/indexes/base.py\u001b[0m in \u001b[0;36m_get_indexer_strict\u001b[0;34m(self, key, axis_name)\u001b[0m\n\u001b[1;32m   5794\u001b[0m             \u001b[0mkeyarr\u001b[0m\u001b[0;34m,\u001b[0m \u001b[0mindexer\u001b[0m\u001b[0;34m,\u001b[0m \u001b[0mnew_indexer\u001b[0m \u001b[0;34m=\u001b[0m \u001b[0mself\u001b[0m\u001b[0;34m.\u001b[0m\u001b[0m_reindex_non_unique\u001b[0m\u001b[0;34m(\u001b[0m\u001b[0mkeyarr\u001b[0m\u001b[0;34m)\u001b[0m\u001b[0;34m\u001b[0m\u001b[0;34m\u001b[0m\u001b[0m\n\u001b[1;32m   5795\u001b[0m \u001b[0;34m\u001b[0m\u001b[0m\n\u001b[0;32m-> 5796\u001b[0;31m         \u001b[0mself\u001b[0m\u001b[0;34m.\u001b[0m\u001b[0m_raise_if_missing\u001b[0m\u001b[0;34m(\u001b[0m\u001b[0mkeyarr\u001b[0m\u001b[0;34m,\u001b[0m \u001b[0mindexer\u001b[0m\u001b[0;34m,\u001b[0m \u001b[0maxis_name\u001b[0m\u001b[0;34m)\u001b[0m\u001b[0;34m\u001b[0m\u001b[0;34m\u001b[0m\u001b[0m\n\u001b[0m\u001b[1;32m   5797\u001b[0m \u001b[0;34m\u001b[0m\u001b[0m\n\u001b[1;32m   5798\u001b[0m         \u001b[0mkeyarr\u001b[0m \u001b[0;34m=\u001b[0m \u001b[0mself\u001b[0m\u001b[0;34m.\u001b[0m\u001b[0mtake\u001b[0m\u001b[0;34m(\u001b[0m\u001b[0mindexer\u001b[0m\u001b[0;34m)\u001b[0m\u001b[0;34m\u001b[0m\u001b[0;34m\u001b[0m\u001b[0m\n",
      "\u001b[0;32m~/opt/anaconda3/lib/python3.9/site-packages/pandas/core/indexes/base.py\u001b[0m in \u001b[0;36m_raise_if_missing\u001b[0;34m(self, key, indexer, axis_name)\u001b[0m\n\u001b[1;32m   5857\u001b[0m \u001b[0;34m\u001b[0m\u001b[0m\n\u001b[1;32m   5858\u001b[0m             \u001b[0mnot_found\u001b[0m \u001b[0;34m=\u001b[0m \u001b[0mlist\u001b[0m\u001b[0;34m(\u001b[0m\u001b[0mensure_index\u001b[0m\u001b[0;34m(\u001b[0m\u001b[0mkey\u001b[0m\u001b[0;34m)\u001b[0m\u001b[0;34m[\u001b[0m\u001b[0mmissing_mask\u001b[0m\u001b[0;34m.\u001b[0m\u001b[0mnonzero\u001b[0m\u001b[0;34m(\u001b[0m\u001b[0;34m)\u001b[0m\u001b[0;34m[\u001b[0m\u001b[0;36m0\u001b[0m\u001b[0;34m]\u001b[0m\u001b[0;34m]\u001b[0m\u001b[0;34m.\u001b[0m\u001b[0munique\u001b[0m\u001b[0;34m(\u001b[0m\u001b[0;34m)\u001b[0m\u001b[0;34m)\u001b[0m\u001b[0;34m\u001b[0m\u001b[0;34m\u001b[0m\u001b[0m\n\u001b[0;32m-> 5859\u001b[0;31m             \u001b[0;32mraise\u001b[0m \u001b[0mKeyError\u001b[0m\u001b[0;34m(\u001b[0m\u001b[0;34mf\"{not_found} not in index\"\u001b[0m\u001b[0;34m)\u001b[0m\u001b[0;34m\u001b[0m\u001b[0;34m\u001b[0m\u001b[0m\n\u001b[0m\u001b[1;32m   5860\u001b[0m \u001b[0;34m\u001b[0m\u001b[0m\n\u001b[1;32m   5861\u001b[0m     \u001b[0;34m@\u001b[0m\u001b[0moverload\u001b[0m\u001b[0;34m\u001b[0m\u001b[0;34m\u001b[0m\u001b[0m\n",
      "\u001b[0;31mKeyError\u001b[0m: \"['Road', 'ALOCHOL'] not in index\""
     ]
    }
   ],
   "source": [
    "df = df[columns_to_keep]\n",
    "\n",
    "# Write the new dataframe to a csv file\n",
    "df.to_csv('FLAG_2010_2021_COLUMNS.csv', index=False)"
   ]
  },
  {
   "cell_type": "code",
   "execution_count": null,
   "id": "1f351b7d",
   "metadata": {},
   "outputs": [],
   "source": []
  },
  {
   "cell_type": "code",
   "execution_count": null,
   "id": "acb263a2",
   "metadata": {},
   "outputs": [],
   "source": []
  },
  {
   "cell_type": "code",
   "execution_count": null,
   "id": "aa90b179",
   "metadata": {},
   "outputs": [],
   "source": []
  },
  {
   "cell_type": "code",
   "execution_count": null,
   "id": "6f11a64b",
   "metadata": {},
   "outputs": [],
   "source": []
  },
  {
   "cell_type": "code",
   "execution_count": null,
   "id": "635fb02b",
   "metadata": {},
   "outputs": [],
   "source": []
  },
  {
   "cell_type": "code",
   "execution_count": null,
   "id": "73034ac5",
   "metadata": {},
   "outputs": [],
   "source": []
  },
  {
   "cell_type": "code",
   "execution_count": null,
   "id": "afb2c5ca",
   "metadata": {},
   "outputs": [],
   "source": []
  },
  {
   "cell_type": "code",
   "execution_count": null,
   "id": "478d4724",
   "metadata": {},
   "outputs": [],
   "source": []
  },
  {
   "cell_type": "code",
   "execution_count": null,
   "id": "8a7a7304",
   "metadata": {},
   "outputs": [],
   "source": [
    "# Load your data into a pandas DataFrame\n",
    "df = pd.read_csv('FLAG_2010_2020_Statewide.csv')\n",
    "\n",
    "# Create a new DataFrame that combines all columns with 1's and 0's\n",
    "combined_df = df[['ALCOHOL_RELATED', 'AGGRESSIVE_DRIVING']]\n",
    "\n",
    "# Calculate the sum of all the 1's in the combined DataFrame\n",
    "ones = combined_df.sum().sum()\n",
    "\n",
    "# Print the result\n",
    "print(\"The number of 1's in the combined columns is:\", ones)"
   ]
  },
  {
   "cell_type": "code",
   "execution_count": null,
   "id": "96e456bb",
   "metadata": {},
   "outputs": [],
   "source": []
  },
  {
   "cell_type": "code",
   "execution_count": null,
   "id": "695b29a9",
   "metadata": {},
   "outputs": [],
   "source": []
  },
  {
   "cell_type": "code",
   "execution_count": null,
   "id": "34d35a02",
   "metadata": {},
   "outputs": [],
   "source": []
  },
  {
   "cell_type": "code",
   "execution_count": 115,
   "id": "07b4bae4",
   "metadata": {},
   "outputs": [],
   "source": [
    "columns_to_keep = ['CRN', 'Year','CELL_PHONE','DISTRACTED','SPEEDING_RELATED','UNBELTED','UNLICENSED','YOUNG_DRIVER','ILLUMINATION_DARK','VEHICLE_FAILURE','DRINKING_DRIVER','DRUG_RELATED','DRUGGED_DRIVER','ILLEGAL_DRUG_RELATED','MC_DRINKING_DRIVER','CURVED_ROAD','CORE_NETWORK','ICY_ROAD','INTERSECTION','INTERSTATE','LANE_DEPARTURE','LEFT_TURN','NON_INTERSECTION','OTHER_FREEWAY','OVERTURNED','RAMP','SNOW_SLUSH_ROAD','STATE_ROAD','WET_ROAD','URBAN','BACKUP_PRIOR','BACKUP_NONRECURRING','BACKUP_CONGESTION','HIT_BARRIER','HIT_BRIDGE','HIT_DEER','HIT_EMBANKMENT','HIT_FIXED_OBJECT','HIT_GDRAIL','HIT_PARKED_VEHICLE','HIT_POLE','HIT_TREE_SHRUB','PEDESTRIAN','ALCOHOL_RELATED']"
   ]
  },
  {
   "cell_type": "code",
   "execution_count": null,
   "id": "59216a2b",
   "metadata": {},
   "outputs": [],
   "source": []
  },
  {
   "cell_type": "code",
   "execution_count": null,
   "id": "08356ea1",
   "metadata": {},
   "outputs": [],
   "source": []
  },
  {
   "cell_type": "code",
   "execution_count": null,
   "id": "410f6754",
   "metadata": {},
   "outputs": [],
   "source": []
  },
  {
   "cell_type": "code",
   "execution_count": null,
   "id": "ec4dc54e",
   "metadata": {},
   "outputs": [],
   "source": []
  },
  {
   "cell_type": "code",
   "execution_count": null,
   "id": "bd5267ce",
   "metadata": {},
   "outputs": [],
   "source": []
  },
  {
   "cell_type": "code",
   "execution_count": 116,
   "id": "8ae7b524",
   "metadata": {},
   "outputs": [],
   "source": [
    "df = merged_df[columns_to_keep]\n",
    "\n",
    "# Write the new dataframe to a csv file\n",
    "df.to_csv('FLAG_2010_2021_Statewidess_COLUMNS.csv', index=False)"
   ]
  },
  {
   "cell_type": "code",
   "execution_count": 228,
   "id": "15920ff1",
   "metadata": {},
   "outputs": [
    {
     "data": {
      "text/plain": [
       "0          NO NEGLEGENCE\n",
       "1             NEGLEGENCE\n",
       "2          NO NEGLEGENCE\n",
       "3          NO NEGLEGENCE\n",
       "4          NO NEGLEGENCE\n",
       "               ...      \n",
       "1479356    NO NEGLEGENCE\n",
       "1479357    NO NEGLEGENCE\n",
       "1479358    NO NEGLEGENCE\n",
       "1479359    NO NEGLEGENCE\n",
       "1479360    NO NEGLEGENCE\n",
       "Name: UNBELTED, Length: 1479361, dtype: object"
      ]
     },
     "execution_count": 228,
     "metadata": {},
     "output_type": "execute_result"
    }
   ],
   "source": [
    "df['UNBELTED']"
   ]
  },
  {
   "cell_type": "code",
   "execution_count": null,
   "id": "e2fab92e",
   "metadata": {},
   "outputs": [],
   "source": []
  },
  {
   "cell_type": "code",
   "execution_count": null,
   "id": "2db5d528",
   "metadata": {},
   "outputs": [],
   "source": []
  },
  {
   "cell_type": "code",
   "execution_count": null,
   "id": "1766dfad",
   "metadata": {},
   "outputs": [],
   "source": []
  },
  {
   "cell_type": "code",
   "execution_count": null,
   "id": "15750399",
   "metadata": {},
   "outputs": [],
   "source": []
  },
  {
   "cell_type": "code",
   "execution_count": null,
   "id": "8e8d0537",
   "metadata": {},
   "outputs": [],
   "source": []
  },
  {
   "cell_type": "code",
   "execution_count": null,
   "id": "13366338",
   "metadata": {},
   "outputs": [],
   "source": []
  },
  {
   "cell_type": "code",
   "execution_count": null,
   "id": "13ea0c75",
   "metadata": {},
   "outputs": [],
   "source": [
    "//NEGLEGENCE"
   ]
  },
  {
   "cell_type": "code",
   "execution_count": 175,
   "id": "df545963",
   "metadata": {},
   "outputs": [],
   "source": [
    "df['CELL_PHONE'].replace({1: 'NEGLEGENCE', 0: 'NO NEGLEGENCE'}, inplace=True)"
   ]
  },
  {
   "cell_type": "code",
   "execution_count": 176,
   "id": "c2a81b36",
   "metadata": {},
   "outputs": [],
   "source": [
    " df['DISTRACTED'].replace({1: 'NEGLEGENCE', 0: 'NO NEGLEGENCE'}, inplace=True)"
   ]
  },
  {
   "cell_type": "code",
   "execution_count": 177,
   "id": "d553e61b",
   "metadata": {},
   "outputs": [],
   "source": [
    " df['SPEEDING_RELATED'].replace({1: 'NEGLEGENCE', 0: 'NO NEGLEGENCE'}, inplace=True)"
   ]
  },
  {
   "cell_type": "code",
   "execution_count": 230,
   "id": "fbe30563",
   "metadata": {},
   "outputs": [],
   "source": [
    " df['UNBELTED'].replace({1: 'NEGLEGENCE', 0: 'NO NEGLEGENCE'}, inplace=True)"
   ]
  },
  {
   "cell_type": "code",
   "execution_count": null,
   "id": "374ed81a",
   "metadata": {},
   "outputs": [],
   "source": []
  },
  {
   "cell_type": "code",
   "execution_count": 232,
   "id": "0b2ad7e4",
   "metadata": {},
   "outputs": [
    {
     "data": {
      "text/plain": [
       "0          NO NEGLEGENCE\n",
       "1             NEGLEGENCE\n",
       "2          NO NEGLEGENCE\n",
       "3          NO NEGLEGENCE\n",
       "4          NO NEGLEGENCE\n",
       "               ...      \n",
       "1479356    NO NEGLEGENCE\n",
       "1479357    NO NEGLEGENCE\n",
       "1479358    NO NEGLEGENCE\n",
       "1479359    NO NEGLEGENCE\n",
       "1479360    NO NEGLEGENCE\n",
       "Name: UNBELTED, Length: 1479361, dtype: object"
      ]
     },
     "execution_count": 232,
     "metadata": {},
     "output_type": "execute_result"
    }
   ],
   "source": [
    "df['UNBELTED']"
   ]
  },
  {
   "cell_type": "code",
   "execution_count": null,
   "id": "8872bb39",
   "metadata": {},
   "outputs": [],
   "source": []
  },
  {
   "cell_type": "code",
   "execution_count": null,
   "id": "0f4a4891",
   "metadata": {},
   "outputs": [],
   "source": []
  },
  {
   "cell_type": "code",
   "execution_count": null,
   "id": "54a97f17",
   "metadata": {},
   "outputs": [],
   "source": []
  },
  {
   "cell_type": "code",
   "execution_count": 179,
   "id": "de03b297",
   "metadata": {},
   "outputs": [],
   "source": [
    "df['UNLICENSED'].replace({1: 'NEGLEGENCE', 0: 'NO NEGLEGENCE'}, inplace=True)"
   ]
  },
  {
   "cell_type": "code",
   "execution_count": 180,
   "id": "9a0d6deb",
   "metadata": {},
   "outputs": [],
   "source": [
    " df['YOUNG_DRIVER'].replace({1: 'NEGLEGENCE', 0: 'NO NEGLEGENCE'}, inplace=True)"
   ]
  },
  {
   "cell_type": "code",
   "execution_count": 181,
   "id": "367f9ad4",
   "metadata": {},
   "outputs": [
    {
     "ename": "SyntaxError",
     "evalue": "invalid syntax (418102175.py, line 1)",
     "output_type": "error",
     "traceback": [
      "\u001b[0;36m  File \u001b[0;32m\"/var/folders/4c/0rjvfr695_z4vl4pl12z6bzc0000gn/T/ipykernel_27231/418102175.py\"\u001b[0;36m, line \u001b[0;32m1\u001b[0m\n\u001b[0;31m    //UNIQUE\u001b[0m\n\u001b[0m    ^\u001b[0m\n\u001b[0;31mSyntaxError\u001b[0m\u001b[0;31m:\u001b[0m invalid syntax\n"
     ]
    }
   ],
   "source": [
    "//UNIQUE"
   ]
  },
  {
   "cell_type": "code",
   "execution_count": 182,
   "id": "9e481eea",
   "metadata": {},
   "outputs": [],
   "source": [
    " df['ILLUMINATION_DARK'].replace({1: 'UNIQUE', 0: 'NO UNIQUE'}, inplace=True)"
   ]
  },
  {
   "cell_type": "code",
   "execution_count": 183,
   "id": "d118873a",
   "metadata": {},
   "outputs": [],
   "source": [
    " df['VEHICLE_FAILURE'].replace({1: 'UNIQUE', 0: 'NO UNIQUE'}, inplace=True)"
   ]
  },
  {
   "cell_type": "code",
   "execution_count": 184,
   "id": "6d499adb",
   "metadata": {},
   "outputs": [
    {
     "ename": "SyntaxError",
     "evalue": "invalid syntax (3148791654.py, line 1)",
     "output_type": "error",
     "traceback": [
      "\u001b[0;36m  File \u001b[0;32m\"/var/folders/4c/0rjvfr695_z4vl4pl12z6bzc0000gn/T/ipykernel_27231/3148791654.py\"\u001b[0;36m, line \u001b[0;32m1\u001b[0m\n\u001b[0;31m    //ALOCHOL_RELATED\u001b[0m\n\u001b[0m    ^\u001b[0m\n\u001b[0;31mSyntaxError\u001b[0m\u001b[0;31m:\u001b[0m invalid syntax\n"
     ]
    }
   ],
   "source": [
    "//ALOCHOL_RELATED"
   ]
  },
  {
   "cell_type": "code",
   "execution_count": 185,
   "id": "aac249e3",
   "metadata": {},
   "outputs": [],
   "source": [
    "df['DRINKING_DRIVER'].replace({1: 'ALOCHOL_RELATED', 0: 'NO ALOCHOL_RELATED'}, inplace=True)"
   ]
  },
  {
   "cell_type": "code",
   "execution_count": 186,
   "id": "85e655e3",
   "metadata": {},
   "outputs": [],
   "source": [
    "df['DRUG_RELATED'].replace({1: 'ALOCHOL_RELATED', 0: 'NO ALOCHOL_RELATED'}, inplace=True)"
   ]
  },
  {
   "cell_type": "code",
   "execution_count": 187,
   "id": "064cb0aa",
   "metadata": {},
   "outputs": [],
   "source": [
    " df['DRUGGED_DRIVER'].replace({1: 'ALOCHOL_RELATED', 0: 'NO ALOCHOL_RELATED'}, inplace=True)"
   ]
  },
  {
   "cell_type": "code",
   "execution_count": 188,
   "id": "32ee4e01",
   "metadata": {},
   "outputs": [],
   "source": [
    " df['ILLEGAL_DRUG_RELATED'].replace({1: 'ALOCHOL_RELATED', 0: 'NO ALOCHOL_RELATED'}, inplace=True)"
   ]
  },
  {
   "cell_type": "code",
   "execution_count": 189,
   "id": "77b9acc6",
   "metadata": {},
   "outputs": [],
   "source": [
    "df['MC_DRINKING_DRIVER'].replace({1: 'ALOCHOL_RELATED', 0: 'NO ALOCHOL_RELATED'}, inplace=True)"
   ]
  },
  {
   "cell_type": "code",
   "execution_count": 190,
   "id": "ce656be0",
   "metadata": {},
   "outputs": [],
   "source": [
    "df['ALCOHOL_RELATED'].replace({1: 'ALOCHOL_RELATED', 0: 'NO ALOCHOL_RELATED'}, inplace=True)"
   ]
  },
  {
   "cell_type": "code",
   "execution_count": 191,
   "id": "f3513c7d",
   "metadata": {},
   "outputs": [
    {
     "ename": "SyntaxError",
     "evalue": "invalid syntax (526828367.py, line 1)",
     "output_type": "error",
     "traceback": [
      "\u001b[0;36m  File \u001b[0;32m\"/var/folders/4c/0rjvfr695_z4vl4pl12z6bzc0000gn/T/ipykernel_27231/526828367.py\"\u001b[0;36m, line \u001b[0;32m1\u001b[0m\n\u001b[0;31m    //ROAD\u001b[0m\n\u001b[0m    ^\u001b[0m\n\u001b[0;31mSyntaxError\u001b[0m\u001b[0;31m:\u001b[0m invalid syntax\n"
     ]
    }
   ],
   "source": [
    "//ROAD"
   ]
  },
  {
   "cell_type": "code",
   "execution_count": 192,
   "id": "12187030",
   "metadata": {},
   "outputs": [],
   "source": [
    "df['CURVED_ROAD'].replace({1: 'ROAD ACC', 0: 'NO ROAD ACC'}, inplace=True)"
   ]
  },
  {
   "cell_type": "code",
   "execution_count": 193,
   "id": "6cb922bc",
   "metadata": {},
   "outputs": [],
   "source": [
    " df['CORE_NETWORK'].replace({1: 'ROAD ACC', 0: 'NO ROAD ACC'}, inplace=True)"
   ]
  },
  {
   "cell_type": "code",
   "execution_count": 194,
   "id": "421c0c68",
   "metadata": {},
   "outputs": [],
   "source": [
    " df['ICY_ROAD'].replace({1: 'ROAD ACC', 0: 'NO ROAD ACC'}, inplace=True)"
   ]
  },
  {
   "cell_type": "code",
   "execution_count": 195,
   "id": "defcfdfe",
   "metadata": {},
   "outputs": [],
   "source": [
    " df['INTERSECTION'].replace({1: 'ROAD ACC', 0: 'NO ROAD ACC'}, inplace=True)"
   ]
  },
  {
   "cell_type": "code",
   "execution_count": 196,
   "id": "f58fb333",
   "metadata": {},
   "outputs": [],
   "source": [
    "df['INTERSTATE'].replace({1: 'ROAD ACC', 0: 'NO ROAD ACC'}, inplace=True)"
   ]
  },
  {
   "cell_type": "code",
   "execution_count": 197,
   "id": "9a588fbe",
   "metadata": {},
   "outputs": [],
   "source": [
    " df['LANE_DEPARTURE'].replace({1: 'ROAD ACC', 0: 'NO ROAD ACC'}, inplace=True)"
   ]
  },
  {
   "cell_type": "code",
   "execution_count": 198,
   "id": "b411a844",
   "metadata": {},
   "outputs": [],
   "source": [
    " df['LEFT_TURN'].replace({1: 'ROAD ACC', 0: 'NO ROAD ACC'}, inplace=True)"
   ]
  },
  {
   "cell_type": "code",
   "execution_count": 199,
   "id": "36d98580",
   "metadata": {},
   "outputs": [],
   "source": [
    " df['NON_INTERSECTION'].replace({1: 'ROAD ACC', 0: 'NO ROAD ACC'}, inplace=True)"
   ]
  },
  {
   "cell_type": "code",
   "execution_count": 200,
   "id": "0ee8bf59",
   "metadata": {},
   "outputs": [],
   "source": [
    " df['OTHER_FREEWAY'].replace({1: 'ROAD ACC', 0: 'NO ROAD ACC'}, inplace=True)"
   ]
  },
  {
   "cell_type": "code",
   "execution_count": 201,
   "id": "61e6c6a7",
   "metadata": {},
   "outputs": [],
   "source": [
    "df['OVERTURNED'].replace({1: 'ROAD ACC', 0: 'NO ROAD ACC'}, inplace=True)"
   ]
  },
  {
   "cell_type": "code",
   "execution_count": 202,
   "id": "8e68e673",
   "metadata": {},
   "outputs": [],
   "source": [
    "df['RAMP'].replace({1: 'ROAD ACC', 0: 'NO ROAD ACC'}, inplace=True)"
   ]
  },
  {
   "cell_type": "code",
   "execution_count": 203,
   "id": "4a21bf61",
   "metadata": {},
   "outputs": [],
   "source": [
    "df['SNOW_SLUSH_ROAD'].replace({1: 'ROAD ACC', 0: 'NO ROAD ACC'}, inplace=True)"
   ]
  },
  {
   "cell_type": "code",
   "execution_count": 204,
   "id": "541094a7",
   "metadata": {},
   "outputs": [],
   "source": [
    " df['STATE_ROAD'].replace({1: 'ROAD ACC', 0: 'NO ROAD ACC'}, inplace=True)"
   ]
  },
  {
   "cell_type": "code",
   "execution_count": 205,
   "id": "d5afdbb3",
   "metadata": {},
   "outputs": [],
   "source": [
    " df['WET_ROAD'].replace({1: 'ROAD ACC', 0: 'NO ROAD ACC'}, inplace=True)"
   ]
  },
  {
   "cell_type": "code",
   "execution_count": 206,
   "id": "438e01ba",
   "metadata": {},
   "outputs": [],
   "source": [
    " df['URBAN'].replace({1: 'ROAD ACC', 0: 'NO ROAD ACC'}, inplace=True)"
   ]
  },
  {
   "cell_type": "code",
   "execution_count": 207,
   "id": "554fa019",
   "metadata": {},
   "outputs": [
    {
     "ename": "SyntaxError",
     "evalue": "invalid syntax (1365323889.py, line 1)",
     "output_type": "error",
     "traceback": [
      "\u001b[0;36m  File \u001b[0;32m\"/var/folders/4c/0rjvfr695_z4vl4pl12z6bzc0000gn/T/ipykernel_27231/1365323889.py\"\u001b[0;36m, line \u001b[0;32m1\u001b[0m\n\u001b[0;31m    //TRAFFIC REL\u001b[0m\n\u001b[0m    ^\u001b[0m\n\u001b[0;31mSyntaxError\u001b[0m\u001b[0;31m:\u001b[0m invalid syntax\n"
     ]
    }
   ],
   "source": [
    "//TRAFFIC REL"
   ]
  },
  {
   "cell_type": "code",
   "execution_count": 208,
   "id": "7ba6a82b",
   "metadata": {},
   "outputs": [],
   "source": [
    "df['BACKUP_PRIOR'].replace({1: 'TRAFFIC REL', 0: 'NO TRAFFIC REL'}, inplace=True)"
   ]
  },
  {
   "cell_type": "code",
   "execution_count": 209,
   "id": "1f8331fb",
   "metadata": {},
   "outputs": [],
   "source": [
    " df['BACKUP_NONRECURRING'].replace({1: 'TRAFFIC REL', 0: 'NO TRAFFIC REL'}, inplace=True)"
   ]
  },
  {
   "cell_type": "code",
   "execution_count": 210,
   "id": "19f931f1",
   "metadata": {},
   "outputs": [],
   "source": [
    "df['BACKUP_CONGESTION'].replace({1: 'TRAFFIC REL', 0: 'NO TRAFFIC REL'}, inplace=True)"
   ]
  },
  {
   "cell_type": "code",
   "execution_count": 211,
   "id": "e98f99eb",
   "metadata": {},
   "outputs": [
    {
     "ename": "SyntaxError",
     "evalue": "invalid syntax (976366331.py, line 1)",
     "output_type": "error",
     "traceback": [
      "\u001b[0;36m  File \u001b[0;32m\"/var/folders/4c/0rjvfr695_z4vl4pl12z6bzc0000gn/T/ipykernel_27231/976366331.py\"\u001b[0;36m, line \u001b[0;32m1\u001b[0m\n\u001b[0;31m    //HIT\u001b[0m\n\u001b[0m    ^\u001b[0m\n\u001b[0;31mSyntaxError\u001b[0m\u001b[0;31m:\u001b[0m invalid syntax\n"
     ]
    }
   ],
   "source": [
    "//HIT"
   ]
  },
  {
   "cell_type": "code",
   "execution_count": 212,
   "id": "fc5ec05f",
   "metadata": {},
   "outputs": [],
   "source": [
    " df['HIT_BARRIER'].replace({1: 'HIT', 0: 'NO HIT'}, inplace=True)"
   ]
  },
  {
   "cell_type": "code",
   "execution_count": 213,
   "id": "e44e0669",
   "metadata": {},
   "outputs": [],
   "source": [
    " df['HIT_BRIDGE'].replace({1: 'HIT', 0: 'NO HIT'}, inplace=True)"
   ]
  },
  {
   "cell_type": "code",
   "execution_count": 214,
   "id": "434277f1",
   "metadata": {},
   "outputs": [],
   "source": [
    " df['HIT_DEER'].replace({1: 'HIT', 0: 'NO HIT'}, inplace=True)"
   ]
  },
  {
   "cell_type": "code",
   "execution_count": 215,
   "id": "0995e608",
   "metadata": {},
   "outputs": [],
   "source": [
    "df['HIT_EMBANKMENT'].replace({1: 'HIT', 0: 'NO HIT'}, inplace=True)"
   ]
  },
  {
   "cell_type": "code",
   "execution_count": 216,
   "id": "9ea274d1",
   "metadata": {},
   "outputs": [],
   "source": [
    " df['HIT_FIXED_OBJECT'].replace({1: 'HIT', 0: 'NO HIT'}, inplace=True)"
   ]
  },
  {
   "cell_type": "code",
   "execution_count": 217,
   "id": "b427758d",
   "metadata": {},
   "outputs": [],
   "source": [
    "df['HIT_GDRAIL'].replace({1: 'HIT', 0: 'NO HIT'}, inplace=True)"
   ]
  },
  {
   "cell_type": "code",
   "execution_count": 218,
   "id": "09939027",
   "metadata": {},
   "outputs": [],
   "source": [
    "df['HIT_PARKED_VEHICLE'].replace({1: 'HIT', 0: 'NO HIT'}, inplace=True)"
   ]
  },
  {
   "cell_type": "code",
   "execution_count": 219,
   "id": "3985f7c1",
   "metadata": {},
   "outputs": [],
   "source": [
    "df['HIT_POLE'].replace({1: 'HIT', 0: 'NO HIT'}, inplace=True)"
   ]
  },
  {
   "cell_type": "code",
   "execution_count": 220,
   "id": "973fa862",
   "metadata": {},
   "outputs": [],
   "source": [
    "df['HIT_TREE_SHRUB'].replace({1: 'HIT', 0: 'NO HIT'}, inplace=True)"
   ]
  },
  {
   "cell_type": "code",
   "execution_count": 221,
   "id": "b3801ba7",
   "metadata": {},
   "outputs": [],
   "source": [
    "df['PEDESTRIAN'].replace({1: 'HIT', 0: 'NO HIT'}, inplace=True)"
   ]
  },
  {
   "cell_type": "code",
   "execution_count": 222,
   "id": "1f117cfe",
   "metadata": {},
   "outputs": [],
   "source": [
    "df.to_csv('FLAG_2010_2020_StatewideCORRECT.csv', index=False)"
   ]
  },
  {
   "cell_type": "code",
   "execution_count": 233,
   "id": "53769479",
   "metadata": {},
   "outputs": [],
   "source": [
    "df= pd.read_csv('FLAG_2010_2020_StatewideCORRECT.csv')"
   ]
  },
  {
   "cell_type": "code",
   "execution_count": 235,
   "id": "24f0b0df",
   "metadata": {},
   "outputs": [
    {
     "name": "stdout",
     "output_type": "stream",
     "text": [
      "0          NO HIT\n",
      "1          NO HIT\n",
      "2          NO HIT\n",
      "3          NO HIT\n",
      "4          NO HIT\n",
      "            ...  \n",
      "1479356    NO HIT\n",
      "1479357    NO HIT\n",
      "1479358    NO HIT\n",
      "1479359    NO HIT\n",
      "1479360    NO HIT\n",
      "Name: PEDESTRIAN, Length: 1479361, dtype: object\n"
     ]
    }
   ],
   "source": [
    "column_name = 'PEDESTRIAN'\n",
    "column_contents = df[column_name]\n",
    "\n",
    "# Print the contents of the column\n",
    "print(column_contents)"
   ]
  },
  {
   "cell_type": "code",
   "execution_count": null,
   "id": "290868ae",
   "metadata": {},
   "outputs": [],
   "source": []
  },
  {
   "cell_type": "code",
   "execution_count": null,
   "id": "b286d117",
   "metadata": {},
   "outputs": [],
   "source": []
  },
  {
   "cell_type": "code",
   "execution_count": 166,
   "id": "41236ed8",
   "metadata": {},
   "outputs": [
    {
     "name": "stdout",
     "output_type": "stream",
     "text": [
      "0          0\n",
      "1          0\n",
      "2          0\n",
      "3          0\n",
      "4          0\n",
      "          ..\n",
      "1479356    0\n",
      "1479357    0\n",
      "1479358    0\n",
      "1479359    0\n",
      "1479360    0\n",
      "Name: ALCOHOL_RELATED, Length: 1479361, dtype: int64\n"
     ]
    }
   ],
   "source": [
    "column_name = 'ALCOHOL_RELATED'\n",
    "column_contents = df[column_name]\n",
    "\n",
    "# Print the contents of the column\n",
    "print(column_contents)"
   ]
  },
  {
   "cell_type": "code",
   "execution_count": 167,
   "id": "cf10eb87",
   "metadata": {},
   "outputs": [
    {
     "name": "stdout",
     "output_type": "stream",
     "text": [
      "                CRN  Year  CELL_PHONE  DISTRACTED  SPEEDING_RELATED  UNBELTED  \\\n",
      "12       2011014063  2010           0           0                 1         0   \n",
      "61       2011001230  2010           0           0                 0         0   \n",
      "62       2011002160  2010           0           0                 1         0   \n",
      "99       2011000136  2010           0           0                 1         0   \n",
      "159      2011022846  2010           0           0                 0         0   \n",
      "...             ...   ...         ...         ...               ...       ...   \n",
      "1479240  2021120059  2021           0           0                 1         0   \n",
      "1479250  2022001017  2021           0           0                 1         1   \n",
      "1479262  2021014389  2021           0           1                 0         0   \n",
      "1479299  2021014701  2021           0           0                 0         1   \n",
      "1479344  2021014773  2021           0           0                 1         0   \n",
      "\n",
      "         UNLICENSED  YOUNG_DRIVER  ILLUMINATION_DARK  VEHICLE_FAILURE  ...  \\\n",
      "12                0             0                  1                0  ...   \n",
      "61                0             0                  1                0  ...   \n",
      "62                0             1                  0                0  ...   \n",
      "99                0             1                  0                0  ...   \n",
      "159               0             0                  1                0  ...   \n",
      "...             ...           ...                ...              ...  ...   \n",
      "1479240           0             0                  0                0  ...   \n",
      "1479250           0             1                  0                0  ...   \n",
      "1479262           0             0                  0                0  ...   \n",
      "1479299           0             0                  0                0  ...   \n",
      "1479344           0             0                  1                0  ...   \n",
      "\n",
      "         HIT_BRIDGE  HIT_DEER  HIT_EMBANKMENT  HIT_FIXED_OBJECT  HIT_GDRAIL  \\\n",
      "12                0         0               1                 1           0   \n",
      "61                0         0               0                 0           0   \n",
      "62                0         0               0                 0           0   \n",
      "99                0         0               0                 0           0   \n",
      "159               0         0               0                 0           0   \n",
      "...             ...       ...             ...               ...         ...   \n",
      "1479240           0         0               0                 1           0   \n",
      "1479250           0         0               0                 1           0   \n",
      "1479262           0         0               0                 1           0   \n",
      "1479299           0         0               0                 0           0   \n",
      "1479344           0         0               0                 1           0   \n",
      "\n",
      "         HIT_PARKED_VEHICLE  HIT_POLE  HIT_TREE_SHRUB  PEDESTRIAN  \\\n",
      "12                        0         0               1           0   \n",
      "61                        0         0               0           0   \n",
      "62                        0         0               0           0   \n",
      "99                        0         0               0           0   \n",
      "159                       0         0               0           0   \n",
      "...                     ...       ...             ...         ...   \n",
      "1479240                   0         0               1           0   \n",
      "1479250                   0         0               1           0   \n",
      "1479262                   0         0               1           0   \n",
      "1479299                   0         0               0           1   \n",
      "1479344                   0         0               0           0   \n",
      "\n",
      "         ALCOHOL_RELATED  \n",
      "12                     1  \n",
      "61                     0  \n",
      "62                     0  \n",
      "99                     0  \n",
      "159                    0  \n",
      "...                  ...  \n",
      "1479240                0  \n",
      "1479250                0  \n",
      "1479262                0  \n",
      "1479299                0  \n",
      "1479344                0  \n",
      "\n",
      "[78855 rows x 44 columns]\n"
     ]
    }
   ],
   "source": [
    "selected_rows = df.loc[df['SNOW_SLUSH_ROAD'] == 1]\n",
    "\n",
    "# Display the resulting DataFrame\n",
    "print(selected_rows)"
   ]
  },
  {
   "cell_type": "code",
   "execution_count": null,
   "id": "f0ed5d4f",
   "metadata": {},
   "outputs": [],
   "source": []
  },
  {
   "cell_type": "code",
   "execution_count": null,
   "id": "16807618",
   "metadata": {},
   "outputs": [],
   "source": []
  },
  {
   "cell_type": "code",
   "execution_count": null,
   "id": "f42fb617",
   "metadata": {},
   "outputs": [],
   "source": []
  },
  {
   "cell_type": "code",
   "execution_count": 82,
   "id": "9d0eb70a",
   "metadata": {},
   "outputs": [],
   "source": [
    "df['ALCOHOL_RELATED'].replace(0, 'ALCOHOL_RELATED', inplace=True)"
   ]
  },
  {
   "cell_type": "code",
   "execution_count": 83,
   "id": "a5691a0c",
   "metadata": {},
   "outputs": [],
   "source": [
    "df['SNOW_SLUSH_ROAD'].replace(0, 'No ICY ROAD', inplace=True)"
   ]
  },
  {
   "cell_type": "code",
   "execution_count": null,
   "id": "0a74222c",
   "metadata": {},
   "outputs": [],
   "source": []
  },
  {
   "cell_type": "code",
   "execution_count": 84,
   "id": "a74ec3e2",
   "metadata": {},
   "outputs": [],
   "source": [
    "df['SNOW_SLUSH_ROAD'].replace(1, 'ICY ROAD', inplace=True)"
   ]
  },
  {
   "cell_type": "code",
   "execution_count": null,
   "id": "8744db1b",
   "metadata": {},
   "outputs": [],
   "source": []
  },
  {
   "cell_type": "code",
   "execution_count": null,
   "id": "3a841d45",
   "metadata": {},
   "outputs": [],
   "source": []
  },
  {
   "cell_type": "code",
   "execution_count": 85,
   "id": "1ae9c12d",
   "metadata": {},
   "outputs": [],
   "source": [
    "df['ALCOHOL_RELATED'].replace(1, 'Yes Alcohol', inplace=True)"
   ]
  },
  {
   "cell_type": "code",
   "execution_count": null,
   "id": "5c24ae21",
   "metadata": {},
   "outputs": [],
   "source": []
  },
  {
   "cell_type": "code",
   "execution_count": 86,
   "id": "16c21b6c",
   "metadata": {},
   "outputs": [],
   "source": [
    "df['DRINKING_DRIVER'].replace(0, 'No DRUNK DRIVER', inplace=True)"
   ]
  },
  {
   "cell_type": "code",
   "execution_count": null,
   "id": "66826fde",
   "metadata": {},
   "outputs": [],
   "source": []
  },
  {
   "cell_type": "code",
   "execution_count": 87,
   "id": "1cf8c66a",
   "metadata": {},
   "outputs": [],
   "source": [
    "df['DRINKING_DRIVER'].replace(1, 'Yes DRUNK DRIVER', inplace=True)"
   ]
  },
  {
   "cell_type": "code",
   "execution_count": null,
   "id": "7a601a00",
   "metadata": {},
   "outputs": [],
   "source": []
  },
  {
   "cell_type": "code",
   "execution_count": 88,
   "id": "20e3dd16",
   "metadata": {},
   "outputs": [],
   "source": [
    "df['DISTRACTED'].replace(0, 'No DISTRACTION', inplace=True)"
   ]
  },
  {
   "cell_type": "code",
   "execution_count": null,
   "id": "15c12433",
   "metadata": {},
   "outputs": [],
   "source": []
  },
  {
   "cell_type": "code",
   "execution_count": 89,
   "id": "83c3a0fc",
   "metadata": {},
   "outputs": [],
   "source": [
    "df['DISTRACTED'].replace(1, 'YES DISTRACTION', inplace=True)"
   ]
  },
  {
   "cell_type": "code",
   "execution_count": null,
   "id": "cce87315",
   "metadata": {},
   "outputs": [],
   "source": []
  },
  {
   "cell_type": "code",
   "execution_count": 90,
   "id": "fc3fd4a3",
   "metadata": {},
   "outputs": [],
   "source": [
    "df['CELL_PHONE'].replace(0, 'No CELL', inplace=True)"
   ]
  },
  {
   "cell_type": "code",
   "execution_count": null,
   "id": "6ec0979e",
   "metadata": {},
   "outputs": [],
   "source": []
  },
  {
   "cell_type": "code",
   "execution_count": 91,
   "id": "073270cf",
   "metadata": {},
   "outputs": [],
   "source": [
    "df['CELL_PHONE'].replace(1, 'YES CELL', inplace=True)"
   ]
  },
  {
   "cell_type": "code",
   "execution_count": null,
   "id": "eeafeda6",
   "metadata": {},
   "outputs": [],
   "source": []
  },
  {
   "cell_type": "code",
   "execution_count": 92,
   "id": "948c1ab1",
   "metadata": {},
   "outputs": [],
   "source": [
    "df['ICY_ROAD'].replace(0, 'NO ICE', inplace=True)"
   ]
  },
  {
   "cell_type": "code",
   "execution_count": null,
   "id": "81fde0f9",
   "metadata": {},
   "outputs": [],
   "source": []
  },
  {
   "cell_type": "code",
   "execution_count": 93,
   "id": "154e34fd",
   "metadata": {},
   "outputs": [],
   "source": [
    "df['ICY_ROAD'].replace(1, 'YES ICE', inplace=True)"
   ]
  },
  {
   "cell_type": "code",
   "execution_count": null,
   "id": "95fa70e4",
   "metadata": {},
   "outputs": [],
   "source": []
  },
  {
   "cell_type": "code",
   "execution_count": 94,
   "id": "4eb5bc79",
   "metadata": {},
   "outputs": [],
   "source": [
    "df.to_csv('FLAG_2010_2020_StatewideCORRECT.csv', index=False)"
   ]
  },
  {
   "cell_type": "code",
   "execution_count": 95,
   "id": "24b91521",
   "metadata": {},
   "outputs": [],
   "source": [
    "import pandas as pd\n",
    "\n",
    "# Load the dataset into a DataFrame\n",
    "df = pd.read_csv('FLAG_2010_2020_Statewide.csv')"
   ]
  },
  {
   "cell_type": "code",
   "execution_count": 98,
   "id": "88e8bb5d",
   "metadata": {},
   "outputs": [
    {
     "name": "stdout",
     "output_type": "stream",
     "text": [
      "0          0\n",
      "1          0\n",
      "2          0\n",
      "3          0\n",
      "4          0\n",
      "          ..\n",
      "1479356    0\n",
      "1479357    0\n",
      "1479358    0\n",
      "1479359    0\n",
      "1479360    0\n",
      "Name: ALCOHOL_RELATED, Length: 1479361, dtype: int64\n"
     ]
    }
   ],
   "source": [
    "column_name = 'ALCOHOL_RELATED'\n",
    "column_contents = df[column_name]\n",
    "\n",
    "# Print the contents of the column\n",
    "print(column_contents)"
   ]
  },
  {
   "cell_type": "code",
   "execution_count": 99,
   "id": "fcb9c210",
   "metadata": {},
   "outputs": [
    {
     "name": "stdout",
     "output_type": "stream",
     "text": [
      "         AGGRESSIVE_DRIVING  ALCOHOL_RELATED  ANGLE_CRASH  ATV  \\\n",
      "12                        1                1            0    0   \n",
      "61                        0                0            0    0   \n",
      "62                        1                0            0    0   \n",
      "99                        1                0            0    0   \n",
      "159                       0                0            0    0   \n",
      "...                     ...              ...          ...  ...   \n",
      "1479240                   1                0            0    0   \n",
      "1479250                   1                0            0    0   \n",
      "1479262                   0                0            0    0   \n",
      "1479299                   0                0            0    0   \n",
      "1479344                   1                0            0    0   \n",
      "\n",
      "         BACKUP_CONGESTION  BACKUP_NONRECURRING  BACKUP_PRIOR  BICYCLE  \\\n",
      "12                       0                    0             0        0   \n",
      "61                       0                    0             0        0   \n",
      "62                       0                    0             0        0   \n",
      "99                       0                    0             0        0   \n",
      "159                      0                    0             0        0   \n",
      "...                    ...                  ...           ...      ...   \n",
      "1479240                  0                    0             0        0   \n",
      "1479250                  0                    0             0        0   \n",
      "1479262                  0                    0             0        0   \n",
      "1479299                  0                    0             0        0   \n",
      "1479344                  0                    0             0        0   \n",
      "\n",
      "         CELL_PHONE  COMM_VEHICLE  ...  URBAN  VEHICLE_FAILURE  VEHICLE_TOWED  \\\n",
      "12                0             0  ...      0                0              1   \n",
      "61                0             0  ...      0                0              1   \n",
      "62                0             0  ...      1                0              1   \n",
      "99                0             0  ...      1                0              1   \n",
      "159               0             0  ...      1                0              0   \n",
      "...             ...           ...  ...    ...              ...            ...   \n",
      "1479240           0             0  ...      0                0              1   \n",
      "1479250           0             0  ...      0                0              1   \n",
      "1479262           0             0  ...      0                0              1   \n",
      "1479299           0             0  ...      1                0              0   \n",
      "1479344           0             0  ...      1                0              1   \n",
      "\n",
      "         WET_ROAD  WORK_ZONE  CHILD_PASSENGER  MATURE_DRIVER  YOUNG_DRIVER  \\\n",
      "12              0          0                0              0             0   \n",
      "61              0          0                1              0             0   \n",
      "62              0          0                0              0             1   \n",
      "99              0          0                0              0             1   \n",
      "159             0          0                0              0             0   \n",
      "...           ...        ...              ...            ...           ...   \n",
      "1479240         0          0                0              0             0   \n",
      "1479250         0          0                0              0             1   \n",
      "1479262         0          0                0              0             0   \n",
      "1479299         0          0                0              0             0   \n",
      "1479344         0          0                0              0             0   \n",
      "\n",
      "         RAMP  Year  \n",
      "12          0  2010  \n",
      "61          0  2010  \n",
      "62          0  2010  \n",
      "99          0  2010  \n",
      "159         0  2010  \n",
      "...       ...   ...  \n",
      "1479240     0  2021  \n",
      "1479250     0  2021  \n",
      "1479262     0  2021  \n",
      "1479299     0  2021  \n",
      "1479344     0  2021  \n",
      "\n",
      "[78855 rows x 112 columns]\n"
     ]
    }
   ],
   "source": [
    "selected_rows = df.loc[df['SNOW_SLUSH_ROAD'] == 1]\n",
    "\n",
    "# Display the resulting DataFrame\n",
    "print(selected_rows)"
   ]
  },
  {
   "cell_type": "code",
   "execution_count": null,
   "id": "cf284aa0",
   "metadata": {},
   "outputs": [],
   "source": []
  },
  {
   "cell_type": "code",
   "execution_count": 102,
   "id": "d0e929a8",
   "metadata": {},
   "outputs": [
    {
     "name": "stdout",
     "output_type": "stream",
     "text": [
      "The column with the most 1s is: SNOWMOBILE\n"
     ]
    }
   ],
   "source": [
    "compared = df.eq(1)\n",
    "\n",
    "# count the number of times 1 appears in each column\n",
    "counts = compared.sum()\n",
    "\n",
    "# find the column with the highest sum\n",
    "most_ones = counts.idxmax()\n",
    "\n",
    "print('The column with the most 1s is:', most_ones)"
   ]
  },
  {
   "cell_type": "code",
   "execution_count": 103,
   "id": "8e674971",
   "metadata": {},
   "outputs": [
    {
     "name": "stdout",
     "output_type": "stream",
     "text": [
      "{'CRN': 0, 'Year': 0, 'SNOWMOBILE': 63, 'TROLLEY': 310, 'TRAIN': 356, 'BACKUP_NONRECURRING': 404, 'BACKUP_PRIOR': 651, 'TRAIN_TROLLEY': 666, 'HORSE_BUGGY': 741, 'OPIOID_RELATED': 1038, 'BACKUP_CONGESTION': 1472, 'SHLDR_RELATED': 1787, 'HAZARDOUS_TRUCK': 1963, 'ATV': 2694, 'MC_DRINKING_DRIVER': 3755, 'SCHOOL_ZONE': 4969, 'UNLICENSED': 7162, 'FIRE_IN_VEHICLE': 7465, 'HIT_BRIDGE': 7541, 'UNDERAGE_DRNK_DRV': 7815, 'SCHOOL_BUS': 8645, 'PHANTOM_VEHICLE': 8736, 'HIT_GDRAIL_END': 12590, 'CELL_PHONE': 13039, 'FATAL': 13413, 'BICYCLE': 14153, 'LIMIT_70MPH': 17192, 'WORK_ZONE': 21505, 'DRIVER_16YR': 21646, 'ILLEGAL_DRUG_RELATED': 22307, 'TURNPIKE': 23594, 'CROSS_MEDIAN': 28343, 'FATIGUE_ASLEEP': 29723, 'RUNNING_STOP_SIGN': 36712, 'MOTORCYCLE': 40992, 'SUSPECTED_SERIOUS_INJURY': 41416, 'DRUGGED_DRIVER': 42668, 'DRUG_RELATED': 43311, 'HIT_DEER': 45593, 'ICY_ROAD': 48085, 'PEDESTRIAN': 48277, 'SPEEDING': 49181, 'RAMP': 52438, 'FATAL_OR_SUSP_SERIOUS_INJ': 52899, 'RUNNING_RED_LT': 52941, 'CURVE_DVR_ERROR': 54782, 'HIT_BARRIER': 55645, 'DRIVER_17YR': 56013, 'LIMIT_65MPH': 60426, 'SUDDEN_DEER': 62112, 'DEER_RELATED': 62877, 'DRIVER_18YR': 66976, 'DRIVER_20YR': 68192, 'VEHICLE_FAILURE': 68259, 'DRIVER_19YR': 68714, 'OTHER_FREEWAY': 70430, 'HIT_GDRAIL': 71308, 'TAILGATING': 71611, 'SNOW_SLUSH_ROAD': 78855, 'HVY_TRUCK_RELTED': 79059, 'NHTSA_AGG_DRIVING': 79066, 'HIT_EMBANKMENT': 79814, 'HO_OPPDIR_SDSWP': 84036, 'COMM_VEHICLE': 89918, 'OVERTURNED': 90197, 'CHILD_PASSENGER': 93406, 'DRIVER_75PLUS': 93973, 'HIT_PARKED_VEHICLE': 95363, 'NO_CLEARANCE': 99716, 'HIT_TREE_SHRUB': 104222, 'HIT_POLE': 104923, 'INTERSTATE': 121027, 'DRINKING_DRIVER': 121228, 'ALCOHOL_RELATED': 124379, 'DRIVER_65_74YR': 147166, 'IMPAIRED_DRIVER': 148836, 'UNBELTED': 167591, 'DISTRACTED': 170142, 'STOP_CONTROLLED_INT': 171943, 'SUSPECTED_MINOR_INJURY': 215544, 'CORE_NETWORK': 218839, 'SIGNALIZED_INT': 223818, 'LEFT_TURN': 228024, 'MATURE_DRIVER': 232949, 'WET_ROAD': 259264, 'YOUNG_DRIVER': 273191, 'POSSIBLE_INJURY': 277807, 'CURVED_ROAD': 277894, 'REAR_END': 320920, 'UNSIGNALIZED_INT': 336001, 'RURAL': 349533, 'LOCAL_ROAD_ONLY': 366375, 'SPEEDING_RELATED': 368831, 'ANGLE_CRASH': 396007, 'DRIVER_50_64YR': 416167, 'HIT_FIXED_OBJECT': 454486, 'LANE_DEPARTURE': 474767, 'ILLUMINATION_DARK': 491618, 'PSP_REPORTED': 512466, 'SV_RUN_OFF_RD': 544961, 'INTERSECTION': 559819, 'SINGLE_VEHICLE': 594027, 'LOCAL_ROAD': 653068, 'INJURY': 694840, 'INJURY_OR_FATAL': 702950, 'PROPERTY_DAMAGE_ONLY': 728019, 'AGGRESSIVE_DRIVING': 818281, 'MULTIPLE_VEHICLE': 880020, 'NON_INTERSECTION': 919542, 'STATE_ROAD': 1071244, 'URBAN': 1129828, 'VEHICLE_TOWED': 1332783}\n"
     ]
    }
   ],
   "source": [
    "column_sums = {}\n",
    "for column in df:\n",
    "    column_sums[column] = df[df[column] == 1].count()[0]\n",
    "\n",
    "# Sort the dictionary by the values in ascending order and store the result in a new dictionary\n",
    "sorted_columns = dict(sorted(column_sums.items(), key=lambda item: item[1]))\n",
    "\n",
    "# Print the new dictionary to see the columns ranked in ascending order by the number of \"1\" values\n",
    "print(sorted_columns)"
   ]
  },
  {
   "cell_type": "code",
   "execution_count": null,
   "id": "835abacd",
   "metadata": {},
   "outputs": [],
   "source": []
  },
  {
   "cell_type": "code",
   "execution_count": null,
   "id": "1e72e62b",
   "metadata": {},
   "outputs": [],
   "source": []
  },
  {
   "cell_type": "code",
   "execution_count": null,
   "id": "01d4d697",
   "metadata": {},
   "outputs": [],
   "source": []
  },
  {
   "cell_type": "code",
   "execution_count": null,
   "id": "b87367e5",
   "metadata": {},
   "outputs": [],
   "source": []
  },
  {
   "cell_type": "code",
   "execution_count": null,
   "id": "0d46153e",
   "metadata": {},
   "outputs": [],
   "source": []
  },
  {
   "cell_type": "code",
   "execution_count": null,
   "id": "63f932ed",
   "metadata": {},
   "outputs": [],
   "source": []
  }
 ],
 "metadata": {
  "kernelspec": {
   "display_name": "Python 3 (ipykernel)",
   "language": "python",
   "name": "python3"
  },
  "language_info": {
   "codemirror_mode": {
    "name": "ipython",
    "version": 3
   },
   "file_extension": ".py",
   "mimetype": "text/x-python",
   "name": "python",
   "nbconvert_exporter": "python",
   "pygments_lexer": "ipython3",
   "version": "3.9.13"
  }
 },
 "nbformat": 4,
 "nbformat_minor": 5
}
